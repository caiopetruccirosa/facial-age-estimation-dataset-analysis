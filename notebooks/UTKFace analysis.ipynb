{
 "cells": [
  {
   "cell_type": "code",
   "execution_count": 1,
   "id": "cc46ec2d",
   "metadata": {},
   "outputs": [],
   "source": [
    "# download on https://susanqq.github.io/UTKFace/"
   ]
  },
  {
   "cell_type": "code",
   "execution_count": 2,
   "id": "b1b383fc",
   "metadata": {},
   "outputs": [],
   "source": [
    "import pandas as pd\n",
    "\n",
    "from datetime import datetime\n",
    "from pathlib import Path"
   ]
  },
  {
   "cell_type": "code",
   "execution_count": 3,
   "id": "71639255",
   "metadata": {},
   "outputs": [],
   "source": [
    "gender_mapping = {\n",
    "    '0': 'M',\n",
    "    '1': 'F',\n",
    "}\n",
    "\n",
    "race_mapping = {\n",
    "    '0': 'White',\n",
    "    '1': 'Black',\n",
    "    '2': 'Asian',\n",
    "    '3': 'Indian',\n",
    "    '4': 'Others',\n",
    "}\n",
    "\n",
    "dataset_datetime_format = '%Y%m%d%H%M%S%f'\n",
    "readable_datetime_format = \"%d/%m/%y %H:%M:%S.%f\"\n",
    "\n",
    "filename_exceptions = {\n",
    "    '44_1_4_20170116235150272.pg': '44_1_4_20170116235150272',\n",
    "    '55_0_0_20170116232725357jpg': '55_0_0_20170116232725357'\n",
    "}"
   ]
  },
  {
   "cell_type": "code",
   "execution_count": 4,
   "id": "5a0c546f",
   "metadata": {},
   "outputs": [],
   "source": [
    "files_with_error = []"
   ]
  },
  {
   "cell_type": "code",
   "execution_count": 5,
   "id": "b02daa81",
   "metadata": {},
   "outputs": [],
   "source": [
    "def read_dataset(dataset_dir):\n",
    "    current_path = Path('.')\n",
    "    dataset_path = Path(dataset_dir)\n",
    "    dataset = []\n",
    "    for file in dataset_path.glob('**/*'):\n",
    "        if not file.is_file():\n",
    "            continue\n",
    "        if file.name == '.DS_Store':\n",
    "            continue\n",
    "        if file.suffix in ['.zip','.gz', '.tar']:\n",
    "            continue\n",
    "        if file.name not in filename_exceptions.keys() and file.suffix not in ['.jpg','.JPG']:\n",
    "            print(f'File with extension different than .jpg. Filename: {file}')\n",
    "            continue\n",
    "            \n",
    "        if file.name in filename_exceptions.keys():\n",
    "            filestem = filename_exceptions[file.name]\n",
    "        else:\n",
    "            filestem = file.stem.strip()\n",
    "        \n",
    "        try:\n",
    "            raw_age, raw_gender, raw_race, raw_datetime = filestem.split('_')\n",
    "            \n",
    "            age = int(raw_age)\n",
    "            gender = gender_mapping[raw_gender]\n",
    "            race = race_mapping[raw_race]\n",
    "            tmp_dt = datetime.strptime(raw_datetime, dataset_datetime_format)\n",
    "            dt = tmp_dt.strftime(readable_datetime_format)\n",
    "        except Exception as e:\n",
    "            print(f'Error parsing data attributes. Error: {e}')\n",
    "            files_with_error.append(str(file))\n",
    "            continue\n",
    "\n",
    "        data = {\n",
    "            'age': age,\n",
    "            'gender': gender,\n",
    "            'race': race,\n",
    "            'datetime': dt,\n",
    "            'filepath': str(file.relative_to(current_path))\n",
    "        }\n",
    "        dataset.append(data)\n",
    "    return dataset"
   ]
  },
  {
   "cell_type": "code",
   "execution_count": 6,
   "id": "44f4225b",
   "metadata": {},
   "outputs": [
    {
     "name": "stdout",
     "output_type": "stream",
     "text": [
      "Error parsing data attributes. Error: not enough values to unpack (expected 4, got 3)\n",
      "Error parsing data attributes. Error: not enough values to unpack (expected 4, got 3)\n",
      "Error parsing data attributes. Error: not enough values to unpack (expected 4, got 3)\n",
      "Error parsing data attributes. Error: ''\n"
     ]
    }
   ],
   "source": [
    "dataset_data = read_dataset('../datasets/utkface')"
   ]
  },
  {
   "cell_type": "code",
   "execution_count": 7,
   "id": "418649c0",
   "metadata": {},
   "outputs": [
    {
     "name": "stdout",
     "output_type": "stream",
     "text": [
      "../datasets/utkface/drive-download-20240615T030001Z-001/part1/61_3_20170109150557335.jpg\n",
      "../datasets/utkface/drive-download-20240615T030001Z-001/part1/61_1_20170109142408075.jpg\n",
      "../datasets/utkface/drive-download-20240615T030001Z-001/part2/39_1_20170116174525125.jpg\n",
      "../datasets/utkface/drive-download-20240615T030001Z-001/part2/53__0_20170116184028385.jpg\n"
     ]
    }
   ],
   "source": [
    "for file_with_error in files_with_error:\n",
    "    print(file_with_error)"
   ]
  },
  {
   "cell_type": "code",
   "execution_count": 8,
   "id": "4bc2258b",
   "metadata": {},
   "outputs": [
    {
     "data": {
      "text/html": [
       "<div>\n",
       "<style scoped>\n",
       "    .dataframe tbody tr th:only-of-type {\n",
       "        vertical-align: middle;\n",
       "    }\n",
       "\n",
       "    .dataframe tbody tr th {\n",
       "        vertical-align: top;\n",
       "    }\n",
       "\n",
       "    .dataframe thead th {\n",
       "        text-align: right;\n",
       "    }\n",
       "</style>\n",
       "<table border=\"1\" class=\"dataframe\">\n",
       "  <thead>\n",
       "    <tr style=\"text-align: right;\">\n",
       "      <th></th>\n",
       "      <th>age</th>\n",
       "      <th>gender</th>\n",
       "      <th>race</th>\n",
       "      <th>datetime</th>\n",
       "      <th>filepath</th>\n",
       "    </tr>\n",
       "  </thead>\n",
       "  <tbody>\n",
       "    <tr>\n",
       "      <th>0</th>\n",
       "      <td>46</td>\n",
       "      <td>M</td>\n",
       "      <td>Indian</td>\n",
       "      <td>19/01/17 20:48:36.094000</td>\n",
       "      <td>../datasets/utkface/drive-download-20240615T03...</td>\n",
       "    </tr>\n",
       "    <tr>\n",
       "      <th>1</th>\n",
       "      <td>23</td>\n",
       "      <td>F</td>\n",
       "      <td>White</td>\n",
       "      <td>16/01/17 22:18:19.522000</td>\n",
       "      <td>../datasets/utkface/drive-download-20240615T03...</td>\n",
       "    </tr>\n",
       "    <tr>\n",
       "      <th>2</th>\n",
       "      <td>23</td>\n",
       "      <td>F</td>\n",
       "      <td>Indian</td>\n",
       "      <td>19/01/17 16:45:04.597000</td>\n",
       "      <td>../datasets/utkface/drive-download-20240615T03...</td>\n",
       "    </tr>\n",
       "    <tr>\n",
       "      <th>3</th>\n",
       "      <td>67</td>\n",
       "      <td>M</td>\n",
       "      <td>Black</td>\n",
       "      <td>20/01/17 22:33:07.141000</td>\n",
       "      <td>../datasets/utkface/drive-download-20240615T03...</td>\n",
       "    </tr>\n",
       "    <tr>\n",
       "      <th>4</th>\n",
       "      <td>24</td>\n",
       "      <td>M</td>\n",
       "      <td>Indian</td>\n",
       "      <td>19/01/17 16:59:35.686000</td>\n",
       "      <td>../datasets/utkface/drive-download-20240615T03...</td>\n",
       "    </tr>\n",
       "  </tbody>\n",
       "</table>\n",
       "</div>"
      ],
      "text/plain": [
       "   age gender    race                  datetime  \\\n",
       "0   46      M  Indian  19/01/17 20:48:36.094000   \n",
       "1   23      F   White  16/01/17 22:18:19.522000   \n",
       "2   23      F  Indian  19/01/17 16:45:04.597000   \n",
       "3   67      M   Black  20/01/17 22:33:07.141000   \n",
       "4   24      M  Indian  19/01/17 16:59:35.686000   \n",
       "\n",
       "                                            filepath  \n",
       "0  ../datasets/utkface/drive-download-20240615T03...  \n",
       "1  ../datasets/utkface/drive-download-20240615T03...  \n",
       "2  ../datasets/utkface/drive-download-20240615T03...  \n",
       "3  ../datasets/utkface/drive-download-20240615T03...  \n",
       "4  ../datasets/utkface/drive-download-20240615T03...  "
      ]
     },
     "execution_count": 8,
     "metadata": {},
     "output_type": "execute_result"
    }
   ],
   "source": [
    "df = pd.DataFrame(dataset_data)\n",
    "\n",
    "df.head()"
   ]
  },
  {
   "cell_type": "code",
   "execution_count": 9,
   "id": "ce5087ba",
   "metadata": {},
   "outputs": [
    {
     "data": {
      "text/plain": [
       "<AxesSubplot:>"
      ]
     },
     "execution_count": 9,
     "metadata": {},
     "output_type": "execute_result"
    },
    {
     "data": {
      "image/png": "[encoded data removed]",
      "text/plain": [
       "<Figure size 1728x576 with 1 Axes>"
      ]
     },
     "metadata": {
      "needs_background": "light"
     },
     "output_type": "display_data"
    }
   ],
   "source": [
    "df['age'].value_counts().sort_index().plot(kind='bar', fontsize=12, figsize=(24,8))"
   ]
  },
  {
   "cell_type": "code",
   "execution_count": 10,
   "id": "d6f0c027",
   "metadata": {},
   "outputs": [],
   "source": [
    "total_cnt, minor_cnt = 0, 0\n",
    "\n",
    "for age, count in df['age'].value_counts().items():\n",
    "    if age < 18:\n",
    "        minor_cnt += count\n",
    "    total_cnt += count\n",
    "    \n",
    "minor_p = minor_cnt/total_cnt"
   ]
  },
  {
   "cell_type": "code",
   "execution_count": 11,
   "id": "50aa06fb",
   "metadata": {},
   "outputs": [
    {
     "name": "stdout",
     "output_type": "stream",
     "text": [
      "Percentile of minors: \t  18.78%\n"
     ]
    }
   ],
   "source": [
    "print(f'Percentile of minors: \\t {minor_p * 100 : .2f}%')"
   ]
  }
 ],
 "metadata": {
  "kernelspec": {
   "display_name": "Python 3 (ipykernel)",
   "language": "python",
   "name": "python3"
  },
  "language_info": {
   "codemirror_mode": {
    "name": "ipython",
    "version": 3
   },
   "file_extension": ".py",
   "mimetype": "text/x-python",
   "name": "python",
   "nbconvert_exporter": "python",
   "pygments_lexer": "ipython3",
   "version": "3.7.13"
  }
 },
 "nbformat": 4,
 "nbformat_minor": 5
}
