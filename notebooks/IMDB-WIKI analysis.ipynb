{
 "cells": [
  {
   "cell_type": "code",
   "execution_count": 1,
   "id": "162eaa76",
   "metadata": {},
   "outputs": [],
   "source": [
    "# download on https://data.vision.ee.ethz.ch/cvl/rrothe/imdb-wiki/"
   ]
  },
  {
   "cell_type": "code",
   "execution_count": 2,
   "id": "bffe99a4",
   "metadata": {},
   "outputs": [],
   "source": [
    "import pandas as pd\n",
    "import numpy as np\n",
    "import scipy.io as spio"
   ]
  },
  {
   "cell_type": "code",
   "execution_count": 3,
   "id": "0ed12e42",
   "metadata": {},
   "outputs": [],
   "source": [
    "imdb_matdata = spio.loadmat('../datasets/imdb-wiki/imdb_meta/imdb/imdb.mat')\n",
    "wiki_matdata = spio.loadmat('../datasets/imdb-wiki/wiki/wiki.mat')"
   ]
  },
  {
   "cell_type": "code",
   "execution_count": null,
   "id": "32ac4828",
   "metadata": {},
   "outputs": [],
   "source": [
    "# Information got from IMDB-WIKI homepage\n",
    "\n",
    "# Dataset Features:\n",
    "#   dob: date of birth (Matlab serial date number)\n",
    "#   photo_taken: year when the photo was taken\n",
    "#   full_path: path to file\n",
    "#   gender: 0 for female and 1 for male, NaN if unknown\n",
    "#   name: name of the celebrity\n",
    "#   face_location: location of the face. To crop the face in Matlab run\n",
    "#   img(face_location(2):face_location(4),face_location(1):face_location(3),:))\n",
    "#   face_score: detector score (the higher the better). Inf implies that no face was found in the image and the face_location then just returns the entire image\n",
    "#   second_face_score: detector score of the face with the second highest score. This is useful to ignore images with more than one face. second_face_score is NaN if no second face was detected.\n",
    "#   celeb_names (IMDB only): list of all celebrity names\n",
    "#   celeb_id (IMDB only): index of celebrity name\n",
    "#\n",
    "# The age of a person can be calculated based on the date of birth and \n",
    "# the time when the photo was taken (note that we assume that the photo was \n",
    "# taken in the middle of the year):\n",
    "#   [age,~]=datevec(datenum(wiki.photo_taken,7,1)-wiki.dob); "
   ]
  },
  {
   "cell_type": "code",
   "execution_count": 4,
   "id": "186aa9c0",
   "metadata": {},
   "outputs": [
    {
     "data": {
      "text/plain": [
       "dict_keys(['__header__', '__version__', '__globals__', 'imdb'])"
      ]
     },
     "execution_count": 4,
     "metadata": {},
     "output_type": "execute_result"
    }
   ],
   "source": [
    "imdb_matdata.keys()"
   ]
  },
  {
   "cell_type": "code",
   "execution_count": 5,
   "id": "087729d3",
   "metadata": {},
   "outputs": [],
   "source": [
    "imdb_np_data = imdb_matdata['imdb']"
   ]
  },
  {
   "cell_type": "code",
   "execution_count": 6,
   "id": "7484531f",
   "metadata": {},
   "outputs": [
    {
     "name": "stdout",
     "output_type": "stream",
     "text": [
      "Structure on depth 1:\n",
      "\ttype: <class 'numpy.ndarray'>, len: 20284\n",
      "\ttype: <class 'numpy.ndarray'>, len: 460723\n",
      "\ttype: <class 'numpy.void'>, len: 10\n",
      "\ttype: <class 'numpy.ndarray'>, len: 1\n",
      "Structure on depth 2:\n",
      "\ttype: <class 'numpy.ndarray'>, len: 20284\n",
      "\ttype: <class 'numpy.ndarray'>, len: 460723\n",
      "\ttype: <class 'numpy.void'>, len: 10\n",
      "\ttype: <class 'numpy.ndarray'>, len: 1\n",
      "Structure on depth 3:\n",
      "\ttype: <class 'numpy.ndarray'>, len: 20284\n",
      "\ttype: <class 'numpy.ndarray'>, len: 460723\n",
      "\ttype: <class 'numpy.void'>, len: 10\n",
      "\ttype: <class 'numpy.ndarray'>, len: 1\n",
      "Structure on depth 4:\n",
      "\ttype: <class 'numpy.ndarray'>, len: 20284\n",
      "\ttype: <class 'numpy.ndarray'>, len: 460723\n",
      "\ttype: <class 'numpy.void'>, len: 10\n",
      "\ttype: <class 'numpy.ndarray'>, len: 1\n"
     ]
    }
   ],
   "source": [
    "imdb_info_layer = [ set() ] * 4\n",
    "\n",
    "for l0 in imdb_np_data:\n",
    "    imdb_info_layer[0].add(f'type: {type(l0)}, len: {len(l0)}')\n",
    "    for l1 in l0:\n",
    "        imdb_info_layer[1].add(f'type: {type(l1)}, len: {len(l1)}')\n",
    "        for l2 in l1:\n",
    "            imdb_info_layer[2].add(f'type: {type(l2)}, len: {len(l2)}')\n",
    "            for l3 in l2:\n",
    "                imdb_info_layer[3].add(f'type: {type(l3)}, len: {len(l3)}')\n",
    "\n",
    "for i in range(4):\n",
    "    print(f'Structure on depth {i+1}:')\n",
    "    for info in imdb_info_layer[i]:\n",
    "        print(f'\\t{info}')"
   ]
  },
  {
   "cell_type": "code",
   "execution_count": 7,
   "id": "1f39e11d",
   "metadata": {},
   "outputs": [
    {
     "name": "stdout",
     "output_type": "stream",
     "text": [
      "Feature 0:\n",
      "\t type: <class 'numpy.int32'>\n",
      "\t len: <class 'numpy.ndarray'>\n",
      "\t sample: 693726\n",
      "Feature 1:\n",
      "\t type: <class 'numpy.uint16'>\n",
      "\t len: <class 'numpy.ndarray'>\n",
      "\t sample: 1968\n",
      "Feature 2:\n",
      "\t type: <class 'numpy.ndarray'>\n",
      "\t len: <class 'numpy.ndarray'>\n",
      "\t sample: ['01/nm0000001_rm124825600_1899-5-10_1968.jpg']\n",
      "Feature 3:\n",
      "\t type: <class 'numpy.float64'>\n",
      "\t len: <class 'numpy.ndarray'>\n",
      "\t sample: 1.0\n",
      "Feature 4:\n",
      "\t type: <class 'numpy.ndarray'>\n",
      "\t len: <class 'numpy.ndarray'>\n",
      "\t sample: ['Fred Astaire']\n",
      "Feature 5:\n",
      "\t type: <class 'numpy.ndarray'>\n",
      "\t len: <class 'numpy.ndarray'>\n",
      "\t sample: [[1072.926  161.838 1214.784  303.696]]\n",
      "Feature 6:\n",
      "\t type: <class 'numpy.float64'>\n",
      "\t len: <class 'numpy.ndarray'>\n",
      "\t sample: 1.4596929136202572\n",
      "Feature 7:\n",
      "\t type: <class 'numpy.float64'>\n",
      "\t len: <class 'numpy.ndarray'>\n",
      "\t sample: 1.1189733571573068\n",
      "Feature 8:\n",
      "\t type: <class 'numpy.ndarray'>\n",
      "\t len: <class 'numpy.ndarray'>\n",
      "\t sample: [\"'Lee' George Quinones\"]\n",
      "Feature 9:\n",
      "\t type: <class 'numpy.uint16'>\n",
      "\t len: <class 'numpy.ndarray'>\n",
      "\t sample: 6488\n"
     ]
    }
   ],
   "source": [
    "for i in range(10):\n",
    "    print(f'Feature {i}:')\n",
    "    print(f'\\t type: {type(imdb_np_data[0][0][i][0][0])}')\n",
    "    print(f'\\t len: {type(imdb_np_data[0][0][i][0])}')\n",
    "    print(f'\\t sample: {imdb_np_data[0][0][i][0][0]}')"
   ]
  },
  {
   "cell_type": "code",
   "execution_count": 8,
   "id": "f047466f",
   "metadata": {},
   "outputs": [
    {
     "data": {
      "text/plain": [
       "dict_keys(['__header__', '__version__', '__globals__', 'wiki'])"
      ]
     },
     "execution_count": 8,
     "metadata": {},
     "output_type": "execute_result"
    }
   ],
   "source": [
    "wiki_matdata.keys()"
   ]
  },
  {
   "cell_type": "code",
   "execution_count": 9,
   "id": "e37708d5",
   "metadata": {},
   "outputs": [],
   "source": [
    "wiki_np_data = wiki_matdata['wiki']"
   ]
  },
  {
   "cell_type": "code",
   "execution_count": 10,
   "id": "1c12428a",
   "metadata": {},
   "outputs": [
    {
     "name": "stdout",
     "output_type": "stream",
     "text": [
      "Structure on depth 1:\n",
      "\ttype: <class 'numpy.void'>, len: 8\n",
      "\ttype: <class 'numpy.ndarray'>, len: 62328\n",
      "\ttype: <class 'numpy.ndarray'>, len: 1\n",
      "Structure on depth 2:\n",
      "\ttype: <class 'numpy.void'>, len: 8\n",
      "\ttype: <class 'numpy.ndarray'>, len: 62328\n",
      "\ttype: <class 'numpy.ndarray'>, len: 1\n",
      "Structure on depth 3:\n",
      "\ttype: <class 'numpy.void'>, len: 8\n",
      "\ttype: <class 'numpy.ndarray'>, len: 62328\n",
      "\ttype: <class 'numpy.ndarray'>, len: 1\n",
      "Structure on depth 4:\n",
      "\ttype: <class 'numpy.void'>, len: 8\n",
      "\ttype: <class 'numpy.ndarray'>, len: 62328\n",
      "\ttype: <class 'numpy.ndarray'>, len: 1\n"
     ]
    }
   ],
   "source": [
    "wiki_info_layer = [ set() ] * 4\n",
    "\n",
    "for l0 in wiki_np_data:\n",
    "    wiki_info_layer[0].add(f'type: {type(l0)}, len: {len(l0)}')\n",
    "    for l1 in l0:\n",
    "        wiki_info_layer[1].add(f'type: {type(l1)}, len: {len(l1)}')\n",
    "        for l2 in l1:\n",
    "            wiki_info_layer[2].add(f'type: {type(l2)}, len: {len(l2)}')\n",
    "            for l3 in l2:\n",
    "                wiki_info_layer[3].add(f'type: {type(l3)}, len: {len(l3)}')\n",
    "\n",
    "for i in range(4):\n",
    "    print(f'Structure on depth {i+1}:')\n",
    "    for info in wiki_info_layer[i]:\n",
    "        print(f'\\t{info}')"
   ]
  },
  {
   "cell_type": "code",
   "execution_count": 11,
   "id": "d3439076",
   "metadata": {},
   "outputs": [
    {
     "name": "stdout",
     "output_type": "stream",
     "text": [
      "Feature 0:\n",
      "\t type: <class 'numpy.int32'>\n",
      "\t len: <class 'numpy.ndarray'>\n",
      "\t sample: 723671\n",
      "Feature 1:\n",
      "\t type: <class 'numpy.uint16'>\n",
      "\t len: <class 'numpy.ndarray'>\n",
      "\t sample: 2009\n",
      "Feature 2:\n",
      "\t type: <class 'numpy.ndarray'>\n",
      "\t len: <class 'numpy.ndarray'>\n",
      "\t sample: ['17/10000217_1981-05-05_2009.jpg']\n",
      "Feature 3:\n",
      "\t type: <class 'numpy.float64'>\n",
      "\t len: <class 'numpy.ndarray'>\n",
      "\t sample: 1.0\n",
      "Feature 4:\n",
      "\t type: <class 'numpy.ndarray'>\n",
      "\t len: <class 'numpy.ndarray'>\n",
      "\t sample: ['Sami Jauhojärvi']\n",
      "Feature 5:\n",
      "\t type: <class 'numpy.ndarray'>\n",
      "\t len: <class 'numpy.ndarray'>\n",
      "\t sample: [[111.29109473 111.29109473 252.66993082 252.66993082]]\n",
      "Feature 6:\n",
      "\t type: <class 'numpy.float64'>\n",
      "\t len: <class 'numpy.ndarray'>\n",
      "\t sample: 4.3009623883308095\n",
      "Feature 7:\n",
      "\t type: <class 'numpy.float64'>\n",
      "\t len: <class 'numpy.ndarray'>\n",
      "\t sample: nan\n"
     ]
    }
   ],
   "source": [
    "for i in range(8):\n",
    "    print(f'Feature {i}:')\n",
    "    print(f'\\t type: {type(wiki_np_data[0][0][i][0][0])}')\n",
    "    print(f'\\t len: {type(wiki_np_data[0][0][i][0])}')\n",
    "    print(f'\\t sample: {wiki_np_data[0][0][i][0][0]}')"
   ]
  },
  {
   "cell_type": "code",
   "execution_count": null,
   "id": "df266370",
   "metadata": {},
   "outputs": [],
   "source": []
  }
 ],
 "metadata": {
  "kernelspec": {
   "display_name": "Python 3 (ipykernel)",
   "language": "python",
   "name": "python3"
  },
  "language_info": {
   "codemirror_mode": {
    "name": "ipython",
    "version": 3
   },
   "file_extension": ".py",
   "mimetype": "text/x-python",
   "name": "python",
   "nbconvert_exporter": "python",
   "pygments_lexer": "ipython3",
   "version": "3.7.13"
  }
 },
 "nbformat": 4,
 "nbformat_minor": 5
}
