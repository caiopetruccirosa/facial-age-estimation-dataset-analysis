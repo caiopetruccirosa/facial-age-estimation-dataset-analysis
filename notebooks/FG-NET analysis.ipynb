{
 "cells": [
  {
   "cell_type": "code",
   "execution_count": 1,
   "id": "4a1d376a",
   "metadata": {},
   "outputs": [],
   "source": [
    "# download on https://yanweifu.github.io/FG_NET_data/"
   ]
  },
  {
   "cell_type": "code",
   "execution_count": 2,
   "id": "b1b383fc",
   "metadata": {},
   "outputs": [],
   "source": [
    "import pandas as pd\n",
    "\n",
    "from pathlib import Path"
   ]
  },
  {
   "cell_type": "code",
   "execution_count": 3,
   "id": "ff70ff66",
   "metadata": {},
   "outputs": [],
   "source": [
    "filter_non_numeric = lambda s: ''.join(c for c in s if c.isdigit())\n",
    "filter_numeric = lambda s: ''.join(c for c in s if not c.isdigit())"
   ]
  },
  {
   "cell_type": "code",
   "execution_count": 4,
   "id": "311fdccc",
   "metadata": {},
   "outputs": [],
   "source": [
    "def read_dataset(dataset_dir):\n",
    "    current_path = Path('.')\n",
    "    dataset_path = Path(dataset_dir)\n",
    "    dataset = []\n",
    "    for file in dataset_path.glob('**/*'):\n",
    "        if file.suffix not in ['.jpg','.JPG']:\n",
    "            print(f'File with extension different than .jpg. File extension found: {file.suffix}')\n",
    "        else:\n",
    "            filename = file.stem\n",
    "            attributes = filename.split('A')\n",
    "            \n",
    "            raw_person_id = attributes[0]\n",
    "            raw_age = attributes[1]\n",
    "            \n",
    "            photo_id_suffix = 'a' \n",
    "            \n",
    "            if not raw_age.isnumeric():\n",
    "                raw_age = filter_non_numeric(raw_age)\n",
    "                photo_id_suffix = filter_numeric(raw_age)\n",
    "            \n",
    "            data = {\n",
    "                'person_id': raw_person_id,\n",
    "                'photo_id': f'{raw_person_id}{photo_id_suffix}',\n",
    "                'age': int(raw_age),\n",
    "                'filepath': str(file.relative_to(current_path))\n",
    "            }\n",
    "            dataset.append(data)\n",
    "    return dataset"
   ]
  },
  {
   "cell_type": "code",
   "execution_count": 5,
   "id": "3303a7f4",
   "metadata": {},
   "outputs": [],
   "source": [
    "dataset_data = read_dataset('../datasets/fg-net/FGNET/FGNET/images')"
   ]
  },
  {
   "cell_type": "code",
   "execution_count": 6,
   "id": "05f5bc83",
   "metadata": {},
   "outputs": [
    {
     "data": {
      "text/html": [
       "<div>\n",
       "<style scoped>\n",
       "    .dataframe tbody tr th:only-of-type {\n",
       "        vertical-align: middle;\n",
       "    }\n",
       "\n",
       "    .dataframe tbody tr th {\n",
       "        vertical-align: top;\n",
       "    }\n",
       "\n",
       "    .dataframe thead th {\n",
       "        text-align: right;\n",
       "    }\n",
       "</style>\n",
       "<table border=\"1\" class=\"dataframe\">\n",
       "  <thead>\n",
       "    <tr style=\"text-align: right;\">\n",
       "      <th></th>\n",
       "      <th>person_id</th>\n",
       "      <th>photo_id</th>\n",
       "      <th>age</th>\n",
       "      <th>filepath</th>\n",
       "    </tr>\n",
       "  </thead>\n",
       "  <tbody>\n",
       "    <tr>\n",
       "      <th>0</th>\n",
       "      <td>001</td>\n",
       "      <td>001a</td>\n",
       "      <td>2</td>\n",
       "      <td>../datasets/fg-net/FGNET/FGNET/images/001A02.JPG</td>\n",
       "    </tr>\n",
       "    <tr>\n",
       "      <th>1</th>\n",
       "      <td>001</td>\n",
       "      <td>001a</td>\n",
       "      <td>5</td>\n",
       "      <td>../datasets/fg-net/FGNET/FGNET/images/001A05.JPG</td>\n",
       "    </tr>\n",
       "    <tr>\n",
       "      <th>2</th>\n",
       "      <td>001</td>\n",
       "      <td>001a</td>\n",
       "      <td>8</td>\n",
       "      <td>../datasets/fg-net/FGNET/FGNET/images/001A08.JPG</td>\n",
       "    </tr>\n",
       "    <tr>\n",
       "      <th>3</th>\n",
       "      <td>001</td>\n",
       "      <td>001a</td>\n",
       "      <td>10</td>\n",
       "      <td>../datasets/fg-net/FGNET/FGNET/images/001A10.JPG</td>\n",
       "    </tr>\n",
       "    <tr>\n",
       "      <th>4</th>\n",
       "      <td>001</td>\n",
       "      <td>001a</td>\n",
       "      <td>14</td>\n",
       "      <td>../datasets/fg-net/FGNET/FGNET/images/001A14.JPG</td>\n",
       "    </tr>\n",
       "  </tbody>\n",
       "</table>\n",
       "</div>"
      ],
      "text/plain": [
       "  person_id photo_id  age                                          filepath\n",
       "0       001     001a    2  ../datasets/fg-net/FGNET/FGNET/images/001A02.JPG\n",
       "1       001     001a    5  ../datasets/fg-net/FGNET/FGNET/images/001A05.JPG\n",
       "2       001     001a    8  ../datasets/fg-net/FGNET/FGNET/images/001A08.JPG\n",
       "3       001     001a   10  ../datasets/fg-net/FGNET/FGNET/images/001A10.JPG\n",
       "4       001     001a   14  ../datasets/fg-net/FGNET/FGNET/images/001A14.JPG"
      ]
     },
     "execution_count": 6,
     "metadata": {},
     "output_type": "execute_result"
    }
   ],
   "source": [
    "df = pd.DataFrame(dataset_data)\n",
    "\n",
    "df.head()"
   ]
  },
  {
   "cell_type": "code",
   "execution_count": 7,
   "id": "3a509126",
   "metadata": {},
   "outputs": [
    {
     "data": {
      "text/plain": [
       "<AxesSubplot:>"
      ]
     },
     "execution_count": 7,
     "metadata": {},
     "output_type": "execute_result"
    },
    {
     "data": {
      "image/png": "[encoded data removed]",
      "text/plain": [
       "<Figure size 1728x576 with 1 Axes>"
      ]
     },
     "metadata": {
      "needs_background": "light"
     },
     "output_type": "display_data"
    }
   ],
   "source": [
    "df['age'].value_counts().sort_index().plot(kind='bar', fontsize=12, figsize=(24,8))"
   ]
  },
  {
   "cell_type": "code",
   "execution_count": 8,
   "id": "58532c7e",
   "metadata": {},
   "outputs": [],
   "source": [
    "total_cnt, minor_cnt = 0, 0\n",
    "\n",
    "for age, count in df['age'].value_counts().items():\n",
    "    if age < 18:\n",
    "        minor_cnt += count\n",
    "    total_cnt += count\n",
    "    \n",
    "minor_p = minor_cnt/total_cnt"
   ]
  },
  {
   "cell_type": "code",
   "execution_count": 9,
   "id": "921ca23c",
   "metadata": {
    "scrolled": true
   },
   "outputs": [
    {
     "name": "stdout",
     "output_type": "stream",
     "text": [
      "Percentile of minors: \t  63.87%\n"
     ]
    }
   ],
   "source": [
    "print(f'Percentile of minors: \\t {minor_p * 100 : .2f}%')"
   ]
  }
 ],
 "metadata": {
  "kernelspec": {
   "display_name": "Python 3 (ipykernel)",
   "language": "python",
   "name": "python3"
  },
  "language_info": {
   "codemirror_mode": {
    "name": "ipython",
    "version": 3
   },
   "file_extension": ".py",
   "mimetype": "text/x-python",
   "name": "python",
   "nbconvert_exporter": "python",
   "pygments_lexer": "ipython3",
   "version": "3.7.13"
  }
 },
 "nbformat": 4,
 "nbformat_minor": 5
}
