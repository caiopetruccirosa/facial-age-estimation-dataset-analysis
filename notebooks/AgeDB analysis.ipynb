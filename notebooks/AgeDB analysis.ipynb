{
 "cells": [
  {
   "cell_type": "code",
   "execution_count": 1,
   "id": "c5802d89",
   "metadata": {},
   "outputs": [],
   "source": [
    "# download on https://drive.google.com/file/d/1vbMP-6_tGzOyaOiTa6s16rnhbGjU1BUi/view\n",
    "# link found on https://github.com/deepinsight/insightface/issues/1219"
   ]
  },
  {
   "cell_type": "code",
   "execution_count": 2,
   "id": "b1b383fc",
   "metadata": {},
   "outputs": [],
   "source": [
    "import pandas as pd\n",
    "\n",
    "from pathlib import Path"
   ]
  },
  {
   "cell_type": "code",
   "execution_count": 3,
   "id": "311fdccc",
   "metadata": {},
   "outputs": [],
   "source": [
    "def read_dataset(dataset_dir):\n",
    "    current_path = Path('.')\n",
    "    dataset_path = Path(dataset_dir)\n",
    "    dataset = []\n",
    "    for file in dataset_path.glob('**/*'):\n",
    "        if file.suffix != '.jpg':\n",
    "            print(f'File with extension different than .jpg. File extension found: {file.suffix}')\n",
    "        else:\n",
    "            filename = file.stem\n",
    "            attributes = filename.split('_')\n",
    "            data = {\n",
    "                'person_id': attributes[0],\n",
    "                'person_name': attributes[1],\n",
    "                'age': int(attributes[2]),\n",
    "                'sex': attributes[3],\n",
    "                'filepath': str(file.relative_to(current_path))\n",
    "            }\n",
    "            dataset.append(data)\n",
    "    return dataset"
   ]
  },
  {
   "cell_type": "code",
   "execution_count": 4,
   "id": "3303a7f4",
   "metadata": {},
   "outputs": [],
   "source": [
    "dataset_data = read_dataset('../datasets/agedb/AgeDB')"
   ]
  },
  {
   "cell_type": "code",
   "execution_count": 5,
   "id": "05f5bc83",
   "metadata": {},
   "outputs": [
    {
     "data": {
      "text/html": [
       "<div>\n",
       "<style scoped>\n",
       "    .dataframe tbody tr th:only-of-type {\n",
       "        vertical-align: middle;\n",
       "    }\n",
       "\n",
       "    .dataframe tbody tr th {\n",
       "        vertical-align: top;\n",
       "    }\n",
       "\n",
       "    .dataframe thead th {\n",
       "        text-align: right;\n",
       "    }\n",
       "</style>\n",
       "<table border=\"1\" class=\"dataframe\">\n",
       "  <thead>\n",
       "    <tr style=\"text-align: right;\">\n",
       "      <th></th>\n",
       "      <th>person_id</th>\n",
       "      <th>person_name</th>\n",
       "      <th>age</th>\n",
       "      <th>sex</th>\n",
       "      <th>filepath</th>\n",
       "    </tr>\n",
       "  </thead>\n",
       "  <tbody>\n",
       "    <tr>\n",
       "      <th>0</th>\n",
       "      <td>6924</td>\n",
       "      <td>BorisKarloff</td>\n",
       "      <td>54</td>\n",
       "      <td>m</td>\n",
       "      <td>../datasets/agedb/AgeDB/6924_BorisKarloff_54_m...</td>\n",
       "    </tr>\n",
       "    <tr>\n",
       "      <th>1</th>\n",
       "      <td>785</td>\n",
       "      <td>akistsoxatzopoulos</td>\n",
       "      <td>30</td>\n",
       "      <td>m</td>\n",
       "      <td>../datasets/agedb/AgeDB/785_akistsoxatzopoulos...</td>\n",
       "    </tr>\n",
       "    <tr>\n",
       "      <th>2</th>\n",
       "      <td>5416</td>\n",
       "      <td>JonFinch</td>\n",
       "      <td>54</td>\n",
       "      <td>m</td>\n",
       "      <td>../datasets/agedb/AgeDB/5416_JonFinch_54_m.jpg</td>\n",
       "    </tr>\n",
       "    <tr>\n",
       "      <th>3</th>\n",
       "      <td>8643</td>\n",
       "      <td>JamesStewart</td>\n",
       "      <td>32</td>\n",
       "      <td>m</td>\n",
       "      <td>../datasets/agedb/AgeDB/8643_JamesStewart_32_m...</td>\n",
       "    </tr>\n",
       "    <tr>\n",
       "      <th>4</th>\n",
       "      <td>7597</td>\n",
       "      <td>SylvesterStallone</td>\n",
       "      <td>45</td>\n",
       "      <td>m</td>\n",
       "      <td>../datasets/agedb/AgeDB/7597_SylvesterStallone...</td>\n",
       "    </tr>\n",
       "  </tbody>\n",
       "</table>\n",
       "</div>"
      ],
      "text/plain": [
       "  person_id         person_name  age sex  \\\n",
       "0      6924        BorisKarloff   54   m   \n",
       "1       785  akistsoxatzopoulos   30   m   \n",
       "2      5416            JonFinch   54   m   \n",
       "3      8643        JamesStewart   32   m   \n",
       "4      7597   SylvesterStallone   45   m   \n",
       "\n",
       "                                            filepath  \n",
       "0  ../datasets/agedb/AgeDB/6924_BorisKarloff_54_m...  \n",
       "1  ../datasets/agedb/AgeDB/785_akistsoxatzopoulos...  \n",
       "2     ../datasets/agedb/AgeDB/5416_JonFinch_54_m.jpg  \n",
       "3  ../datasets/agedb/AgeDB/8643_JamesStewart_32_m...  \n",
       "4  ../datasets/agedb/AgeDB/7597_SylvesterStallone...  "
      ]
     },
     "execution_count": 5,
     "metadata": {},
     "output_type": "execute_result"
    }
   ],
   "source": [
    "df = pd.DataFrame(dataset_data)\n",
    "\n",
    "df.head()"
   ]
  },
  {
   "cell_type": "code",
   "execution_count": 6,
   "id": "3a509126",
   "metadata": {},
   "outputs": [
    {
     "data": {
      "text/plain": [
       "<AxesSubplot:>"
      ]
     },
     "execution_count": 6,
     "metadata": {},
     "output_type": "execute_result"
    },
    {
     "data": {
      "image/png": "[encoded data removed]",
      "text/plain": [
       "<Figure size 1728x576 with 1 Axes>"
      ]
     },
     "metadata": {
      "needs_background": "light"
     },
     "output_type": "display_data"
    }
   ],
   "source": [
    "df['age'].value_counts().sort_index().plot(kind='bar', fontsize=12, figsize=(24,8))"
   ]
  },
  {
   "cell_type": "code",
   "execution_count": 7,
   "id": "58532c7e",
   "metadata": {},
   "outputs": [],
   "source": [
    "total_cnt, minor_cnt = 0, 0\n",
    "\n",
    "for age, count in df['age'].value_counts().items():\n",
    "    if age < 18:\n",
    "        minor_cnt += count\n",
    "    total_cnt += count\n",
    "    \n",
    "minor_p = minor_cnt/total_cnt"
   ]
  },
  {
   "cell_type": "code",
   "execution_count": 8,
   "id": "921ca23c",
   "metadata": {
    "scrolled": true
   },
   "outputs": [
    {
     "name": "stdout",
     "output_type": "stream",
     "text": [
      "Percentile of minors: \t  1.92%\n"
     ]
    }
   ],
   "source": [
    "print(f'Percentile of minors: \\t {minor_p * 100 : .2f}%')"
   ]
  }
 ],
 "metadata": {
  "kernelspec": {
   "display_name": "Python 3 (ipykernel)",
   "language": "python",
   "name": "python3"
  },
  "language_info": {
   "codemirror_mode": {
    "name": "ipython",
    "version": 3
   },
   "file_extension": ".py",
   "mimetype": "text/x-python",
   "name": "python",
   "nbconvert_exporter": "python",
   "pygments_lexer": "ipython3",
   "version": "3.7.13"
  }
 },
 "nbformat": 4,
 "nbformat_minor": 5
}
