{
 "cells": [
  {
   "cell_type": "code",
   "execution_count": 1,
   "id": "a5d2f850",
   "metadata": {},
   "outputs": [],
   "source": [
    "# tried using code from https://github.com/imdeepmind/processed-imdb-wiki-dataset.git\n",
    "# but didnt succeed"
   ]
  },
  {
   "cell_type": "code",
   "execution_count": 2,
   "id": "162eaa76",
   "metadata": {},
   "outputs": [],
   "source": [
    "# download on https://data.vision.ee.ethz.ch/cvl/rrothe/imdb-wiki/"
   ]
  },
  {
   "cell_type": "code",
   "execution_count": 3,
   "id": "bffe99a4",
   "metadata": {},
   "outputs": [],
   "source": [
    "import pandas as pd\n",
    "import numpy as np\n",
    "import scipy.io as spio\n",
    "\n",
    "from datetime import datetime, timedelta"
   ]
  },
  {
   "cell_type": "code",
   "execution_count": 4,
   "id": "a5f9206c",
   "metadata": {},
   "outputs": [],
   "source": [
    "# got from https://gist.github.com/victorkristof/b9d794fe1ed12e708b9d\n",
    "def datenum_to_datetime(datenum):\n",
    "    \"\"\"\n",
    "    Convert Matlab datenum into Python datetime.\n",
    "\n",
    "    :param datenum: Date in datenum format\n",
    "    :return:        Datetime object corresponding to datenum.\n",
    "    \"\"\"\n",
    "    days = datenum % 1\n",
    "    hours = days % 1 * 24\n",
    "    minutes = hours % 1 * 60\n",
    "    seconds = minutes % 1 * 60\n",
    "    return datetime.fromordinal(int(datenum)) \\\n",
    "           + timedelta(days=int(days)) \\\n",
    "           + timedelta(hours=int(hours)) \\\n",
    "           + timedelta(minutes=int(minutes)) \\\n",
    "           + timedelta(seconds=round(seconds)) \\\n",
    "           - timedelta(days=366)"
   ]
  },
  {
   "cell_type": "code",
   "execution_count": 5,
   "id": "0ed12e42",
   "metadata": {},
   "outputs": [],
   "source": [
    "imdb_matdata = spio.loadmat('../datasets/imdb-wiki/imdb_meta/imdb/imdb.mat')\n",
    "wiki_matdata = spio.loadmat('../datasets/imdb-wiki/wiki/wiki.mat')"
   ]
  },
  {
   "cell_type": "code",
   "execution_count": 6,
   "id": "32ac4828",
   "metadata": {},
   "outputs": [],
   "source": [
    "# Information got from IMDB-WIKI homepage\n",
    "\n",
    "# Dataset Features:\n",
    "#   dob: date of birth (Matlab serial date number)\n",
    "#   photo_taken: year when the photo was taken\n",
    "#   full_path: path to file\n",
    "#   gender: 0 for female and 1 for male, NaN if unknown\n",
    "#   name: name of the celebrity\n",
    "#   face_location: location of the face. To crop the face in Matlab run\n",
    "#   img(face_location(2):face_location(4),face_location(1):face_location(3),:))\n",
    "#   face_score: detector score (the higher the better). Inf implies that no face was found in the image and the face_location then just returns the entire image\n",
    "#   second_face_score: detector score of the face with the second highest score. This is useful to ignore images with more than one face. second_face_score is NaN if no second face was detected.\n",
    "#   celeb_names (IMDB only): list of all celebrity names\n",
    "#   celeb_id (IMDB only): index of celebrity name\n",
    "#\n",
    "# The age of a person can be calculated based on the date of birth and \n",
    "# the time when the photo was taken (note that we assume that the photo was \n",
    "# taken in the middle of the year):\n",
    "#   [age,~]=datevec(datenum(wiki.photo_taken,7,1)-wiki.dob); "
   ]
  },
  {
   "cell_type": "code",
   "execution_count": 22,
   "id": "fe1d616a",
   "metadata": {},
   "outputs": [],
   "source": [
    "attributes_names_idx = {\n",
    "    'dob': 0,\n",
    "    'photo_taken': 1,\n",
    "    'full_path': 2,\n",
    "    'gender': 3,\n",
    "    'name': 4,\n",
    "    'face_location': 5,\n",
    "    'face_score': 6,\n",
    "    'second_face_score': 7,\n",
    "    'celeb_names': 8,\n",
    "    'celeb_id': 9,\n",
    "}\n",
    "\n",
    "wanted_attributes_names = [\n",
    "    'dob',\n",
    "    'photo_taken',\n",
    "    'full_path',\n",
    "    'gender',\n",
    "    'name',\n",
    "]\n",
    "\n",
    "wanted_attributes_transform = {\n",
    "    'dob': lambda x: int(datetime.fromordinal(int(x)-366).strftime('%Y')),\n",
    "    'photo_taken': lambda x: int(x),\n",
    "    'full_path': lambda x: x[0],\n",
    "    'gender': lambda x: 'M' if x == 1.0 else 'F' if x == 0.0 else 'U',\n",
    "    'name': lambda x: x[0] if len(x) > 0 else '[UNKNOWN]',\n",
    "}"
   ]
  },
  {
   "cell_type": "code",
   "execution_count": 23,
   "id": "186aa9c0",
   "metadata": {},
   "outputs": [
    {
     "data": {
      "text/plain": [
       "dict_keys(['__header__', '__version__', '__globals__', 'imdb'])"
      ]
     },
     "execution_count": 23,
     "metadata": {},
     "output_type": "execute_result"
    }
   ],
   "source": [
    "imdb_matdata.keys()"
   ]
  },
  {
   "cell_type": "code",
   "execution_count": 24,
   "id": "087729d3",
   "metadata": {},
   "outputs": [
    {
     "data": {
      "text/plain": [
       "array([[(array([[693726, 693726, 693726, ..., 726831, 726831, 726831]], dtype=int32), array([[1968, 1970, 1968, ..., 2011, 2011, 2011]], dtype=uint16), array([[array(['01/nm0000001_rm124825600_1899-5-10_1968.jpg'], dtype='<U43'),\n",
       "                array(['01/nm0000001_rm3343756032_1899-5-10_1970.jpg'], dtype='<U44'),\n",
       "                array(['01/nm0000001_rm577153792_1899-5-10_1968.jpg'], dtype='<U43'),\n",
       "                ...,\n",
       "                array(['08/nm3994408_rm926592512_1989-12-29_2011.jpg'], dtype='<U44'),\n",
       "                array(['08/nm3994408_rm943369728_1989-12-29_2011.jpg'], dtype='<U44'),\n",
       "                array(['08/nm3994408_rm976924160_1989-12-29_2011.jpg'], dtype='<U44')]],\n",
       "              dtype=object), array([[1., 1., 1., ..., 0., 0., 0.]]), array([[array(['Fred Astaire'], dtype='<U12'),\n",
       "                array(['Fred Astaire'], dtype='<U12'),\n",
       "                array(['Fred Astaire'], dtype='<U12'), ...,\n",
       "                array(['Jane Levy'], dtype='<U9'),\n",
       "                array(['Jane Levy'], dtype='<U9'),\n",
       "                array(['Jane Levy'], dtype='<U9')]], dtype=object), array([[array([[1072.926,  161.838, 1214.784,  303.696]]),\n",
       "                array([[477.184, 100.352, 622.592, 245.76 ]]),\n",
       "                array([[114.96964309, 114.96964309, 451.68657236, 451.68657236]]),\n",
       "                ..., array([[  1,   1, 453, 640]], dtype=uint16),\n",
       "                array([[144.75225472, 126.76472288, 305.78804127, 287.80050943]]),\n",
       "                array([[457.524,  41.748, 518.016, 102.24 ]])]], dtype=object), array([[1.45969291, 2.5431976 , 3.45557949, ...,       -inf, 4.45072452,\n",
       "                2.13350269]]), array([[1.11897336, 1.85200773, 2.98566022, ...,        nan,        nan,\n",
       "                       nan]]), array([[array([\"'Lee' George Quinones\"], dtype='<U21'),\n",
       "                array([\"'Weird Al' Yankovic\"], dtype='<U19'),\n",
       "                array(['2 Chainz'], dtype='<U8'), ...,\n",
       "                array(['Éric Caravaca'], dtype='<U13'),\n",
       "                array(['Ólafur Darri Ólafsson'], dtype='<U21'),\n",
       "                array(['Óscar Jaenada'], dtype='<U13')]], dtype=object), array([[6488, 6488, 6488, ..., 8410, 8410, 8410]], dtype=uint16))                                                                                           ]],\n",
       "      dtype=[('dob', 'O'), ('photo_taken', 'O'), ('full_path', 'O'), ('gender', 'O'), ('name', 'O'), ('face_location', 'O'), ('face_score', 'O'), ('second_face_score', 'O'), ('celeb_names', 'O'), ('celeb_id', 'O')])"
      ]
     },
     "execution_count": 24,
     "metadata": {},
     "output_type": "execute_result"
    }
   ],
   "source": [
    "imdb_np_data = imdb_matdata['imdb']\n",
    "imdb_np_data"
   ]
  },
  {
   "cell_type": "code",
   "execution_count": 25,
   "id": "5e1a2544",
   "metadata": {},
   "outputs": [
    {
     "data": {
      "text/plain": [
       "dtype([('dob', 'O'), ('photo_taken', 'O'), ('full_path', 'O'), ('gender', 'O'), ('name', 'O'), ('face_location', 'O'), ('face_score', 'O'), ('second_face_score', 'O'), ('celeb_names', 'O'), ('celeb_id', 'O')])"
      ]
     },
     "execution_count": 25,
     "metadata": {},
     "output_type": "execute_result"
    }
   ],
   "source": [
    "imdb_np_data.dtype"
   ]
  },
  {
   "cell_type": "code",
   "execution_count": 26,
   "id": "7484531f",
   "metadata": {},
   "outputs": [
    {
     "name": "stdout",
     "output_type": "stream",
     "text": [
      "Structure on depth 1:\n",
      "\ttype: uint16, len: 1\n",
      "\ttype: int32, len: 460723\n",
      "\ttype: object, len: 20284\n",
      "\ttype: int32, len: 1\n",
      "\ttype: [('dob', 'O'), ('photo_taken', 'O'), ('full_path', 'O'), ('gender', 'O'), ('name', 'O'), ('face_location', 'O'), ('face_score', 'O'), ('second_face_score', 'O'), ('celeb_names', 'O'), ('celeb_id', 'O')], len: 10\n",
      "\ttype: object, len: 460723\n",
      "\ttype: uint16, len: 460723\n",
      "\ttype: float64, len: 1\n",
      "\ttype: object, len: 1\n",
      "\ttype: float64, len: 460723\n",
      "\ttype: [('dob', 'O'), ('photo_taken', 'O'), ('full_path', 'O'), ('gender', 'O'), ('name', 'O'), ('face_location', 'O'), ('face_score', 'O'), ('second_face_score', 'O'), ('celeb_names', 'O'), ('celeb_id', 'O')], len: 1\n",
      "Structure on depth 2:\n",
      "\ttype: uint16, len: 1\n",
      "\ttype: int32, len: 460723\n",
      "\ttype: object, len: 20284\n",
      "\ttype: int32, len: 1\n",
      "\ttype: [('dob', 'O'), ('photo_taken', 'O'), ('full_path', 'O'), ('gender', 'O'), ('name', 'O'), ('face_location', 'O'), ('face_score', 'O'), ('second_face_score', 'O'), ('celeb_names', 'O'), ('celeb_id', 'O')], len: 10\n",
      "\ttype: object, len: 460723\n",
      "\ttype: uint16, len: 460723\n",
      "\ttype: float64, len: 1\n",
      "\ttype: object, len: 1\n",
      "\ttype: float64, len: 460723\n",
      "\ttype: [('dob', 'O'), ('photo_taken', 'O'), ('full_path', 'O'), ('gender', 'O'), ('name', 'O'), ('face_location', 'O'), ('face_score', 'O'), ('second_face_score', 'O'), ('celeb_names', 'O'), ('celeb_id', 'O')], len: 1\n",
      "Structure on depth 3:\n",
      "\ttype: uint16, len: 1\n",
      "\ttype: int32, len: 460723\n",
      "\ttype: object, len: 20284\n",
      "\ttype: int32, len: 1\n",
      "\ttype: [('dob', 'O'), ('photo_taken', 'O'), ('full_path', 'O'), ('gender', 'O'), ('name', 'O'), ('face_location', 'O'), ('face_score', 'O'), ('second_face_score', 'O'), ('celeb_names', 'O'), ('celeb_id', 'O')], len: 10\n",
      "\ttype: object, len: 460723\n",
      "\ttype: uint16, len: 460723\n",
      "\ttype: float64, len: 1\n",
      "\ttype: object, len: 1\n",
      "\ttype: float64, len: 460723\n",
      "\ttype: [('dob', 'O'), ('photo_taken', 'O'), ('full_path', 'O'), ('gender', 'O'), ('name', 'O'), ('face_location', 'O'), ('face_score', 'O'), ('second_face_score', 'O'), ('celeb_names', 'O'), ('celeb_id', 'O')], len: 1\n",
      "Structure on depth 4:\n",
      "\ttype: uint16, len: 1\n",
      "\ttype: int32, len: 460723\n",
      "\ttype: object, len: 20284\n",
      "\ttype: int32, len: 1\n",
      "\ttype: [('dob', 'O'), ('photo_taken', 'O'), ('full_path', 'O'), ('gender', 'O'), ('name', 'O'), ('face_location', 'O'), ('face_score', 'O'), ('second_face_score', 'O'), ('celeb_names', 'O'), ('celeb_id', 'O')], len: 10\n",
      "\ttype: object, len: 460723\n",
      "\ttype: uint16, len: 460723\n",
      "\ttype: float64, len: 1\n",
      "\ttype: object, len: 1\n",
      "\ttype: float64, len: 460723\n",
      "\ttype: [('dob', 'O'), ('photo_taken', 'O'), ('full_path', 'O'), ('gender', 'O'), ('name', 'O'), ('face_location', 'O'), ('face_score', 'O'), ('second_face_score', 'O'), ('celeb_names', 'O'), ('celeb_id', 'O')], len: 1\n"
     ]
    }
   ],
   "source": [
    "imdb_info_layer = [ set() ] * 4\n",
    "\n",
    "for l0 in imdb_np_data:\n",
    "    imdb_info_layer[0].add(f'type: {l0.dtype}, len: {len(l0)}')\n",
    "    for l1 in l0:\n",
    "        imdb_info_layer[1].add(f'type: {l1.dtype}, len: {len(l1)}')\n",
    "        for l2 in l1:\n",
    "            imdb_info_layer[2].add(f'type: {l2.dtype}, len: {len(l2)}')\n",
    "            for l3 in l2:\n",
    "                imdb_info_layer[3].add(f'type: {l3.dtype}, len: {len(l3)}')\n",
    "\n",
    "for i in range(4):\n",
    "    print(f'Structure on depth {i+1}:')\n",
    "    for info in imdb_info_layer[i]:\n",
    "        print(f'\\t{info}')"
   ]
  },
  {
   "cell_type": "code",
   "execution_count": 12,
   "id": "1f39e11d",
   "metadata": {},
   "outputs": [
    {
     "name": "stdout",
     "output_type": "stream",
     "text": [
      "Feature 0:\n",
      "\t type: int32\n",
      "\t len: 460723\n",
      "\t sample: 693726\n",
      "Feature 1:\n",
      "\t type: uint16\n",
      "\t len: 460723\n",
      "\t sample: 1968\n",
      "Feature 2:\n",
      "\t type: <U43\n",
      "\t len: 460723\n",
      "\t sample: ['01/nm0000001_rm124825600_1899-5-10_1968.jpg']\n",
      "Feature 3:\n",
      "\t type: float64\n",
      "\t len: 460723\n",
      "\t sample: 1.0\n",
      "Feature 4:\n",
      "\t type: <U12\n",
      "\t len: 460723\n",
      "\t sample: ['Fred Astaire']\n",
      "Feature 5:\n",
      "\t type: float64\n",
      "\t len: 460723\n",
      "\t sample: [[1072.926  161.838 1214.784  303.696]]\n",
      "Feature 6:\n",
      "\t type: float64\n",
      "\t len: 460723\n",
      "\t sample: 1.4596929136202572\n",
      "Feature 7:\n",
      "\t type: float64\n",
      "\t len: 460723\n",
      "\t sample: 1.1189733571573068\n",
      "Feature 8:\n",
      "\t type: <U21\n",
      "\t len: 20284\n",
      "\t sample: [\"'Lee' George Quinones\"]\n",
      "Feature 9:\n",
      "\t type: uint16\n",
      "\t len: 460723\n",
      "\t sample: 6488\n"
     ]
    }
   ],
   "source": [
    "for i in range(10):\n",
    "    print(f'Feature {i}:')\n",
    "    print(f'\\t type: {imdb_np_data[0][0][i][0][0].dtype}')\n",
    "    print(f'\\t len: {len(imdb_np_data[0][0][i][0])}')\n",
    "    print(f'\\t sample: {imdb_np_data[0][0][i][0][0]}')"
   ]
  },
  {
   "cell_type": "code",
   "execution_count": 13,
   "id": "d1eef638",
   "metadata": {},
   "outputs": [
    {
     "name": "stdout",
     "output_type": "stream",
     "text": [
      "Error when processing attribute dob with value 357. Error: ordinal must be >= 1\n",
      "Error when processing attribute dob with value 142. Error: ordinal must be >= 1\n",
      "Error when processing attribute dob with value 323. Error: ordinal must be >= 1\n",
      "Error when processing attribute dob with value 323. Error: ordinal must be >= 1\n",
      "Error when processing attribute dob with value 323. Error: ordinal must be >= 1\n",
      "Error when processing attribute dob with value 213. Error: ordinal must be >= 1\n",
      "Error when processing attribute dob with value 213. Error: ordinal must be >= 1\n",
      "Error when processing attribute dob with value 213. Error: ordinal must be >= 1\n",
      "Error when processing attribute dob with value 213. Error: ordinal must be >= 1\n",
      "Error when processing attribute dob with value 213. Error: ordinal must be >= 1\n",
      "Error when processing attribute dob with value 213. Error: ordinal must be >= 1\n",
      "Error when processing attribute dob with value 213. Error: ordinal must be >= 1\n",
      "Error when processing attribute dob with value 213. Error: ordinal must be >= 1\n",
      "Error when processing attribute dob with value 213. Error: ordinal must be >= 1\n",
      "Error when processing attribute dob with value 213. Error: ordinal must be >= 1\n",
      "Error when processing attribute dob with value 213. Error: ordinal must be >= 1\n",
      "Error when processing attribute dob with value 213. Error: ordinal must be >= 1\n",
      "Error when processing attribute dob with value 213. Error: ordinal must be >= 1\n",
      "Error when processing attribute dob with value 213. Error: ordinal must be >= 1\n",
      "Error when processing attribute dob with value 213. Error: ordinal must be >= 1\n",
      "Error when processing attribute dob with value 213. Error: ordinal must be >= 1\n",
      "Error when processing attribute dob with value 213. Error: ordinal must be >= 1\n",
      "Error when processing attribute dob with value 213. Error: ordinal must be >= 1\n",
      "Error when processing attribute dob with value 213. Error: ordinal must be >= 1\n",
      "Error when processing attribute dob with value 213. Error: ordinal must be >= 1\n",
      "Error when processing attribute dob with value 294. Error: ordinal must be >= 1\n",
      "Error when processing attribute dob with value 232. Error: ordinal must be >= 1\n",
      "Error when processing attribute dob with value 220. Error: ordinal must be >= 1\n",
      "Error when processing attribute dob with value 220. Error: ordinal must be >= 1\n",
      "Error when processing attribute dob with value 252. Error: ordinal must be >= 1\n",
      "Error when processing attribute dob with value 324. Error: ordinal must be >= 1\n",
      "Error when processing attribute dob with value 324. Error: ordinal must be >= 1\n",
      "Error when processing attribute dob with value 218. Error: ordinal must be >= 1\n",
      "Error when processing attribute dob with value 218. Error: ordinal must be >= 1\n",
      "Error when processing attribute dob with value 218. Error: ordinal must be >= 1\n",
      "Error when processing attribute dob with value 218. Error: ordinal must be >= 1\n",
      "Error when processing attribute dob with value 218. Error: ordinal must be >= 1\n",
      "Error when processing attribute dob with value 240. Error: ordinal must be >= 1\n",
      "Error when processing attribute dob with value 240. Error: ordinal must be >= 1\n",
      "Error when processing attribute dob with value 240. Error: ordinal must be >= 1\n",
      "Error when processing attribute dob with value 190. Error: ordinal must be >= 1\n",
      "Error when processing attribute dob with value 126. Error: ordinal must be >= 1\n",
      "Error when processing attribute dob with value 126. Error: ordinal must be >= 1\n",
      "Error when processing attribute dob with value 75. Error: ordinal must be >= 1\n",
      "Error when processing attribute dob with value 75. Error: ordinal must be >= 1\n",
      "Error when processing attribute dob with value 364. Error: ordinal must be >= 1\n",
      "Error when processing attribute dob with value 234. Error: ordinal must be >= 1\n",
      "Error when processing attribute dob with value 234. Error: ordinal must be >= 1\n",
      "Error when processing attribute dob with value 234. Error: ordinal must be >= 1\n",
      "Error when processing attribute dob with value 234. Error: ordinal must be >= 1\n",
      "Error when processing attribute dob with value 234. Error: ordinal must be >= 1\n",
      "Error when processing attribute dob with value 47. Error: ordinal must be >= 1\n",
      "Error when processing attribute dob with value 47. Error: ordinal must be >= 1\n",
      "Error when processing attribute dob with value 345. Error: ordinal must be >= 1\n",
      "Error when processing attribute dob with value 291. Error: ordinal must be >= 1\n",
      "Error when processing attribute dob with value 221. Error: ordinal must be >= 1\n",
      "Error when processing attribute dob with value 221. Error: ordinal must be >= 1\n",
      "Error when processing attribute dob with value 221. Error: ordinal must be >= 1\n",
      "Error when processing attribute dob with value 221. Error: ordinal must be >= 1\n",
      "Error when processing attribute dob with value 221. Error: ordinal must be >= 1\n",
      "Error when processing attribute dob with value 221. Error: ordinal must be >= 1\n",
      "Error when processing attribute dob with value 221. Error: ordinal must be >= 1\n",
      "Error when processing attribute dob with value 221. Error: ordinal must be >= 1\n",
      "Error when processing attribute dob with value 221. Error: ordinal must be >= 1\n",
      "Error when processing attribute dob with value 221. Error: ordinal must be >= 1\n",
      "Error when processing attribute dob with value 221. Error: ordinal must be >= 1\n",
      "Error when processing attribute dob with value 246. Error: ordinal must be >= 1\n",
      "Error when processing attribute dob with value 363. Error: ordinal must be >= 1\n",
      "Error when processing attribute dob with value 53. Error: ordinal must be >= 1\n",
      "Error when processing attribute dob with value 53. Error: ordinal must be >= 1\n",
      "Error when processing attribute dob with value 53. Error: ordinal must be >= 1\n",
      "Error when processing attribute dob with value 53. Error: ordinal must be >= 1\n",
      "Error when processing attribute dob with value 249. Error: ordinal must be >= 1\n",
      "Error when processing attribute dob with value 249. Error: ordinal must be >= 1\n",
      "Error when processing attribute dob with value 192. Error: ordinal must be >= 1\n",
      "Error when processing attribute dob with value 175. Error: ordinal must be >= 1\n",
      "Error when processing attribute dob with value 175. Error: ordinal must be >= 1\n",
      "Error when processing attribute dob with value 175. Error: ordinal must be >= 1\n",
      "Error when processing attribute dob with value 175. Error: ordinal must be >= 1\n",
      "Error when processing attribute dob with value 175. Error: ordinal must be >= 1\n",
      "Error when processing attribute dob with value 175. Error: ordinal must be >= 1\n",
      "Error when processing attribute dob with value 175. Error: ordinal must be >= 1\n",
      "Error when processing attribute dob with value 175. Error: ordinal must be >= 1\n",
      "Error when processing attribute dob with value 345. Error: ordinal must be >= 1\n",
      "Error when processing attribute dob with value 345. Error: ordinal must be >= 1\n",
      "Error when processing attribute dob with value 345. Error: ordinal must be >= 1\n",
      "Error when processing attribute dob with value 345. Error: ordinal must be >= 1\n",
      "Error when processing attribute dob with value 345. Error: ordinal must be >= 1\n",
      "Error when processing attribute dob with value 345. Error: ordinal must be >= 1\n",
      "Error when processing attribute dob with value 281. Error: ordinal must be >= 1\n",
      "Error when processing attribute dob with value 264. Error: ordinal must be >= 1\n",
      "Error when processing attribute dob with value 264. Error: ordinal must be >= 1\n",
      "Error when processing attribute dob with value 352. Error: ordinal must be >= 1\n",
      "Error when processing attribute dob with value 352. Error: ordinal must be >= 1\n",
      "Error when processing attribute dob with value 352. Error: ordinal must be >= 1\n",
      "Error when processing attribute dob with value 352. Error: ordinal must be >= 1\n",
      "Error when processing attribute dob with value 352. Error: ordinal must be >= 1\n",
      "Error when processing attribute dob with value 352. Error: ordinal must be >= 1\n",
      "Error when processing attribute dob with value 352. Error: ordinal must be >= 1\n",
      "Error when processing attribute dob with value 352. Error: ordinal must be >= 1\n",
      "Error when processing attribute dob with value 352. Error: ordinal must be >= 1\n",
      "Error when processing attribute dob with value 352. Error: ordinal must be >= 1\n",
      "Error when processing attribute dob with value 352. Error: ordinal must be >= 1\n",
      "Error when processing attribute dob with value 334. Error: ordinal must be >= 1\n",
      "Error when processing attribute dob with value 103. Error: ordinal must be >= 1\n",
      "Error when processing attribute dob with value 204. Error: ordinal must be >= 1\n"
     ]
    },
    {
     "name": "stdout",
     "output_type": "stream",
     "text": [
      "Error when processing attribute dob with value 192. Error: ordinal must be >= 1\n",
      "Error when processing attribute dob with value 192. Error: ordinal must be >= 1\n",
      "Error when processing attribute dob with value 192. Error: ordinal must be >= 1\n",
      "Error when processing attribute dob with value 192. Error: ordinal must be >= 1\n",
      "Error when processing attribute dob with value 311. Error: ordinal must be >= 1\n",
      "Error when processing attribute dob with value 276. Error: ordinal must be >= 1\n",
      "Error when processing attribute dob with value 276. Error: ordinal must be >= 1\n",
      "Error when processing attribute dob with value 253. Error: ordinal must be >= 1\n",
      "Error when processing attribute dob with value 253. Error: ordinal must be >= 1\n",
      "Error when processing attribute dob with value 253. Error: ordinal must be >= 1\n",
      "Error when processing attribute dob with value 253. Error: ordinal must be >= 1\n",
      "Error when processing attribute dob with value 253. Error: ordinal must be >= 1\n",
      "Error when processing attribute dob with value 251. Error: ordinal must be >= 1\n",
      "Error when processing attribute dob with value 251. Error: ordinal must be >= 1\n",
      "Error when processing attribute dob with value 251. Error: ordinal must be >= 1\n",
      "Error when processing attribute dob with value 251. Error: ordinal must be >= 1\n",
      "Error when processing attribute dob with value 318. Error: ordinal must be >= 1\n",
      "Error when processing attribute dob with value 209. Error: ordinal must be >= 1\n",
      "Error when processing attribute dob with value 209. Error: ordinal must be >= 1\n",
      "Error when processing attribute dob with value 209. Error: ordinal must be >= 1\n",
      "Error when processing attribute dob with value 209. Error: ordinal must be >= 1\n",
      "Error when processing attribute dob with value 209. Error: ordinal must be >= 1\n",
      "Error when processing attribute dob with value 209. Error: ordinal must be >= 1\n"
     ]
    }
   ],
   "source": [
    "imdb_extracted_data = []\n",
    "\n",
    "for i in range(len(imdb_np_data[0][0][0][0])):\n",
    "    data = dict()\n",
    "    try:\n",
    "        for att_name in wanted_attributes_names:\n",
    "            att_idx = attributes_names_idx[att_name]\n",
    "            raw_data = imdb_np_data[0][0][att_idx][0][i]\n",
    "            data[att_name] = wanted_attributes_transform[att_name](raw_data)\n",
    "        data['age'] = data['photo_taken'] - data['dob']\n",
    "        imdb_extracted_data.append(data)    \n",
    "    except Exception as e:\n",
    "        print(f'Error when processing attribute {att_name} with value {raw_data}. Error: {e}')"
   ]
  },
  {
   "cell_type": "code",
   "execution_count": 14,
   "id": "52bc5211",
   "metadata": {},
   "outputs": [
    {
     "data": {
      "text/plain": [
       "460594"
      ]
     },
     "execution_count": 14,
     "metadata": {},
     "output_type": "execute_result"
    }
   ],
   "source": [
    "len(imdb_extracted_data)"
   ]
  },
  {
   "cell_type": "code",
   "execution_count": 15,
   "id": "94a5c3b3",
   "metadata": {},
   "outputs": [
    {
     "data": {
      "text/plain": [
       "{'dob': 1899,\n",
       " 'photo_taken': 1968,\n",
       " 'full_path': '01/nm0000001_rm124825600_1899-5-10_1968.jpg',\n",
       " 'gender': 'M',\n",
       " 'name': 'Fred Astaire',\n",
       " 'age': 69}"
      ]
     },
     "execution_count": 15,
     "metadata": {},
     "output_type": "execute_result"
    }
   ],
   "source": [
    "imdb_extracted_data[0]"
   ]
  },
  {
   "cell_type": "code",
   "execution_count": 16,
   "id": "f047466f",
   "metadata": {},
   "outputs": [
    {
     "data": {
      "text/plain": [
       "dict_keys(['__header__', '__version__', '__globals__', 'wiki'])"
      ]
     },
     "execution_count": 16,
     "metadata": {},
     "output_type": "execute_result"
    }
   ],
   "source": [
    "wiki_matdata.keys()"
   ]
  },
  {
   "cell_type": "code",
   "execution_count": 17,
   "id": "e37708d5",
   "metadata": {},
   "outputs": [
    {
     "data": {
      "text/plain": [
       "array([[(array([[723671, 703186, 711677, ..., 720620, 723893, 713846]], dtype=int32), array([[2009, 1964, 2008, ..., 2013, 2011, 2008]], dtype=uint16), array([[array(['17/10000217_1981-05-05_2009.jpg'], dtype='<U31'),\n",
       "                array(['48/10000548_1925-04-04_1964.jpg'], dtype='<U31'),\n",
       "                array(['12/100012_1948-07-03_2008.jpg'], dtype='<U29'), ...,\n",
       "                array(['09/9998109_1972-12-27_2013.jpg'], dtype='<U30'),\n",
       "                array(['00/9999400_1981-12-13_2011.jpg'], dtype='<U30'),\n",
       "                array(['80/999980_1954-06-11_2008.jpg'], dtype='<U29')]],\n",
       "              dtype=object), array([[1., 1., 1., ..., 1., 1., 0.]]), array([[array(['Sami Jauhojärvi'], dtype='<U15'),\n",
       "                array(['Dettmar Cramer'], dtype='<U14'),\n",
       "                array(['Marc Okrand'], dtype='<U11'), ...,\n",
       "                array(['Michael Wiesinger'], dtype='<U17'),\n",
       "                array(['Johann Grugger'], dtype='<U14'),\n",
       "                array(['Greta Van Susteren'], dtype='<U18')]], dtype=object), array([[array([[111.29109473, 111.29109473, 252.66993082, 252.66993082]]),\n",
       "                array([[252.4833023 , 126.68165115, 354.53192596, 228.73027481]]),\n",
       "                array([[113.52, 169.84, 366.08, 422.4 ]]), ...,\n",
       "                array([[169.88839786,  74.31669472, 235.2534231 , 139.68171997]]),\n",
       "                array([[1, 1, 1, 1]], dtype=uint8),\n",
       "                array([[ 92.72633235,  62.0435549 , 230.12083087, 199.43805342]])]],\n",
       "              dtype=object), array([[4.30096239, 2.6456395 , 4.32932883, ..., 3.49430317,       -inf,\n",
       "                5.48691655]]), array([[       nan, 1.94924791,        nan, ...,        nan,        nan,\n",
       "                       nan]]))                                                                                                                                                                                           ]],\n",
       "      dtype=[('dob', 'O'), ('photo_taken', 'O'), ('full_path', 'O'), ('gender', 'O'), ('name', 'O'), ('face_location', 'O'), ('face_score', 'O'), ('second_face_score', 'O')])"
      ]
     },
     "execution_count": 17,
     "metadata": {},
     "output_type": "execute_result"
    }
   ],
   "source": [
    "wiki_np_data = wiki_matdata['wiki']\n",
    "wiki_np_data"
   ]
  },
  {
   "cell_type": "code",
   "execution_count": 18,
   "id": "8f6d5618",
   "metadata": {},
   "outputs": [
    {
     "data": {
      "text/plain": [
       "dtype([('dob', 'O'), ('photo_taken', 'O'), ('full_path', 'O'), ('gender', 'O'), ('name', 'O'), ('face_location', 'O'), ('face_score', 'O'), ('second_face_score', 'O')])"
      ]
     },
     "execution_count": 18,
     "metadata": {},
     "output_type": "execute_result"
    }
   ],
   "source": [
    "wiki_np_data.dtype"
   ]
  },
  {
   "cell_type": "code",
   "execution_count": 19,
   "id": "1c12428a",
   "metadata": {},
   "outputs": [
    {
     "name": "stdout",
     "output_type": "stream",
     "text": [
      "Structure on depth 1:\n",
      "\ttype: <class 'numpy.ndarray'>, len: 62328\n",
      "\ttype: <class 'numpy.ndarray'>, len: 1\n",
      "\ttype: <class 'numpy.void'>, len: 8\n",
      "Structure on depth 2:\n",
      "\ttype: <class 'numpy.ndarray'>, len: 62328\n",
      "\ttype: <class 'numpy.ndarray'>, len: 1\n",
      "\ttype: <class 'numpy.void'>, len: 8\n",
      "Structure on depth 3:\n",
      "\ttype: <class 'numpy.ndarray'>, len: 62328\n",
      "\ttype: <class 'numpy.ndarray'>, len: 1\n",
      "\ttype: <class 'numpy.void'>, len: 8\n",
      "Structure on depth 4:\n",
      "\ttype: <class 'numpy.ndarray'>, len: 62328\n",
      "\ttype: <class 'numpy.ndarray'>, len: 1\n",
      "\ttype: <class 'numpy.void'>, len: 8\n"
     ]
    }
   ],
   "source": [
    "wiki_info_layer = [ set() ] * 4\n",
    "\n",
    "for l0 in wiki_np_data:\n",
    "    wiki_info_layer[0].add(f'type: {type(l0)}, len: {len(l0)}')\n",
    "    for l1 in l0:\n",
    "        wiki_info_layer[1].add(f'type: {type(l1)}, len: {len(l1)}')\n",
    "        for l2 in l1:\n",
    "            wiki_info_layer[2].add(f'type: {type(l2)}, len: {len(l2)}')\n",
    "            for l3 in l2:\n",
    "                wiki_info_layer[3].add(f'type: {type(l3)}, len: {len(l3)}')\n",
    "\n",
    "for i in range(4):\n",
    "    print(f'Structure on depth {i+1}:')\n",
    "    for info in wiki_info_layer[i]:\n",
    "        print(f'\\t{info}')"
   ]
  },
  {
   "cell_type": "code",
   "execution_count": 20,
   "id": "d3439076",
   "metadata": {},
   "outputs": [
    {
     "name": "stdout",
     "output_type": "stream",
     "text": [
      "Feature 0:\n",
      "\t type: <class 'numpy.int32'>\n",
      "\t len: 62328\n",
      "\t sample: 723671\n",
      "Feature 1:\n",
      "\t type: <class 'numpy.uint16'>\n",
      "\t len: 62328\n",
      "\t sample: 2009\n",
      "Feature 2:\n",
      "\t type: <class 'numpy.ndarray'>\n",
      "\t len: 62328\n",
      "\t sample: ['17/10000217_1981-05-05_2009.jpg']\n",
      "Feature 3:\n",
      "\t type: <class 'numpy.float64'>\n",
      "\t len: 62328\n",
      "\t sample: 1.0\n",
      "Feature 4:\n",
      "\t type: <class 'numpy.ndarray'>\n",
      "\t len: 62328\n",
      "\t sample: ['Sami Jauhojärvi']\n",
      "Feature 5:\n",
      "\t type: <class 'numpy.ndarray'>\n",
      "\t len: 62328\n",
      "\t sample: [[111.29109473 111.29109473 252.66993082 252.66993082]]\n",
      "Feature 6:\n",
      "\t type: <class 'numpy.float64'>\n",
      "\t len: 62328\n",
      "\t sample: 4.3009623883308095\n",
      "Feature 7:\n",
      "\t type: <class 'numpy.float64'>\n",
      "\t len: 62328\n",
      "\t sample: nan\n"
     ]
    }
   ],
   "source": [
    "for i in range(8):\n",
    "    print(f'Feature {i}:')\n",
    "    print(f'\\t type: {type(wiki_np_data[0][0][i][0][0])}')\n",
    "    print(f'\\t len: {len(wiki_np_data[0][0][i][0])}')\n",
    "    print(f'\\t sample: {wiki_np_data[0][0][i][0][0]}')"
   ]
  },
  {
   "cell_type": "code",
   "execution_count": 27,
   "id": "29ca7c14",
   "metadata": {},
   "outputs": [],
   "source": [
    "wiki_extracted_data = []\n",
    "\n",
    "for i in range(len(wiki_np_data[0][0][0][0])):\n",
    "    data = dict()\n",
    "    try:\n",
    "        for att_name in wanted_attributes_names:\n",
    "            att_idx = attributes_names_idx[att_name]\n",
    "            raw_data = wiki_np_data[0][0][att_idx][0][i]\n",
    "            data[att_name] = wanted_attributes_transform[att_name](raw_data)\n",
    "        data['age'] = data['photo_taken'] - data['dob']\n",
    "        wiki_extracted_data.append(data)    \n",
    "    except Exception as e:\n",
    "        print(f'Error when processing attribute {att_name} with value {raw_data}. Error: {e}')"
   ]
  },
  {
   "cell_type": "code",
   "execution_count": 28,
   "id": "6bbf0180",
   "metadata": {
    "scrolled": true
   },
   "outputs": [
    {
     "data": {
      "text/html": [
       "<div>\n",
       "<style scoped>\n",
       "    .dataframe tbody tr th:only-of-type {\n",
       "        vertical-align: middle;\n",
       "    }\n",
       "\n",
       "    .dataframe tbody tr th {\n",
       "        vertical-align: top;\n",
       "    }\n",
       "\n",
       "    .dataframe thead th {\n",
       "        text-align: right;\n",
       "    }\n",
       "</style>\n",
       "<table border=\"1\" class=\"dataframe\">\n",
       "  <thead>\n",
       "    <tr style=\"text-align: right;\">\n",
       "      <th></th>\n",
       "      <th>dob</th>\n",
       "      <th>photo_taken</th>\n",
       "      <th>full_path</th>\n",
       "      <th>gender</th>\n",
       "      <th>name</th>\n",
       "      <th>age</th>\n",
       "    </tr>\n",
       "  </thead>\n",
       "  <tbody>\n",
       "    <tr>\n",
       "      <th>0</th>\n",
       "      <td>1899</td>\n",
       "      <td>1968</td>\n",
       "      <td>01/nm0000001_rm124825600_1899-5-10_1968.jpg</td>\n",
       "      <td>M</td>\n",
       "      <td>Fred Astaire</td>\n",
       "      <td>69</td>\n",
       "    </tr>\n",
       "    <tr>\n",
       "      <th>1</th>\n",
       "      <td>1899</td>\n",
       "      <td>1970</td>\n",
       "      <td>01/nm0000001_rm3343756032_1899-5-10_1970.jpg</td>\n",
       "      <td>M</td>\n",
       "      <td>Fred Astaire</td>\n",
       "      <td>71</td>\n",
       "    </tr>\n",
       "    <tr>\n",
       "      <th>2</th>\n",
       "      <td>1899</td>\n",
       "      <td>1968</td>\n",
       "      <td>01/nm0000001_rm577153792_1899-5-10_1968.jpg</td>\n",
       "      <td>M</td>\n",
       "      <td>Fred Astaire</td>\n",
       "      <td>69</td>\n",
       "    </tr>\n",
       "    <tr>\n",
       "      <th>3</th>\n",
       "      <td>1899</td>\n",
       "      <td>1968</td>\n",
       "      <td>01/nm0000001_rm946909184_1899-5-10_1968.jpg</td>\n",
       "      <td>M</td>\n",
       "      <td>Fred Astaire</td>\n",
       "      <td>69</td>\n",
       "    </tr>\n",
       "    <tr>\n",
       "      <th>4</th>\n",
       "      <td>1899</td>\n",
       "      <td>1968</td>\n",
       "      <td>01/nm0000001_rm980463616_1899-5-10_1968.jpg</td>\n",
       "      <td>M</td>\n",
       "      <td>Fred Astaire</td>\n",
       "      <td>69</td>\n",
       "    </tr>\n",
       "  </tbody>\n",
       "</table>\n",
       "</div>"
      ],
      "text/plain": [
       "    dob  photo_taken                                     full_path gender  \\\n",
       "0  1899         1968   01/nm0000001_rm124825600_1899-5-10_1968.jpg      M   \n",
       "1  1899         1970  01/nm0000001_rm3343756032_1899-5-10_1970.jpg      M   \n",
       "2  1899         1968   01/nm0000001_rm577153792_1899-5-10_1968.jpg      M   \n",
       "3  1899         1968   01/nm0000001_rm946909184_1899-5-10_1968.jpg      M   \n",
       "4  1899         1968   01/nm0000001_rm980463616_1899-5-10_1968.jpg      M   \n",
       "\n",
       "           name  age  \n",
       "0  Fred Astaire   69  \n",
       "1  Fred Astaire   71  \n",
       "2  Fred Astaire   69  \n",
       "3  Fred Astaire   69  \n",
       "4  Fred Astaire   69  "
      ]
     },
     "execution_count": 28,
     "metadata": {},
     "output_type": "execute_result"
    }
   ],
   "source": [
    "df = pd.DataFrame(imdb_extracted_data + wiki_extracted_data)\n",
    "df.head()"
   ]
  },
  {
   "cell_type": "code",
   "execution_count": 33,
   "id": "c9f988b4",
   "metadata": {},
   "outputs": [
    {
     "name": "stdout",
     "output_type": "stream",
     "text": [
      "<class 'pandas.core.frame.DataFrame'>\n",
      "RangeIndex: 522922 entries, 0 to 522921\n",
      "Data columns (total 6 columns):\n",
      " #   Column       Non-Null Count   Dtype \n",
      "---  ------       --------------   ----- \n",
      " 0   dob          522922 non-null  int64 \n",
      " 1   photo_taken  522922 non-null  int64 \n",
      " 2   full_path    522922 non-null  object\n",
      " 3   gender       522922 non-null  object\n",
      " 4   name         522922 non-null  object\n",
      " 5   age          522922 non-null  int64 \n",
      "dtypes: int64(3), object(3)\n",
      "memory usage: 23.9+ MB\n"
     ]
    }
   ],
   "source": [
    "df.info()"
   ]
  },
  {
   "cell_type": "code",
   "execution_count": 32,
   "id": "8856a633",
   "metadata": {},
   "outputs": [
    {
     "data": {
      "text/plain": [
       "<AxesSubplot:>"
      ]
     },
     "execution_count": 32,
     "metadata": {},
     "output_type": "execute_result"
    },
    {
     "data": {
      "image/png": "[encoded data removed]",
      "text/plain": [
       "<Figure size 1728x576 with 1 Axes>"
      ]
     },
     "metadata": {
      "needs_background": "light"
     },
     "output_type": "display_data"
    }
   ],
   "source": [
    "df['age'].value_counts().sort_index().plot(kind='bar', fontsize=12, figsize=(24,8))"
   ]
  },
  {
   "cell_type": "code",
   "execution_count": 30,
   "id": "ad43ac19",
   "metadata": {},
   "outputs": [],
   "source": [
    "total_cnt, minor_cnt = 0, 0\n",
    "\n",
    "for age, count in df['age'].value_counts().items():\n",
    "    if age < 18:\n",
    "        minor_cnt += count\n",
    "    total_cnt += count\n",
    "    \n",
    "minor_p = minor_cnt/total_cnt"
   ]
  },
  {
   "cell_type": "code",
   "execution_count": 31,
   "id": "22060fee",
   "metadata": {},
   "outputs": [
    {
     "name": "stdout",
     "output_type": "stream",
     "text": [
      "Percentile of minors: \t  4.32%\n"
     ]
    }
   ],
   "source": [
    "print(f'Percentile of minors: \\t {minor_p * 100 : .2f}%')"
   ]
  },
  {
   "cell_type": "code",
   "execution_count": null,
   "id": "97721575",
   "metadata": {},
   "outputs": [],
   "source": []
  }
 ],
 "metadata": {
  "kernelspec": {
   "display_name": "Python 3 (ipykernel)",
   "language": "python",
   "name": "python3"
  },
  "language_info": {
   "codemirror_mode": {
    "name": "ipython",
    "version": 3
   },
   "file_extension": ".py",
   "mimetype": "text/x-python",
   "name": "python",
   "nbconvert_exporter": "python",
   "pygments_lexer": "ipython3",
   "version": "3.7.13"
  }
 },
 "nbformat": 4,
 "nbformat_minor": 5
}
