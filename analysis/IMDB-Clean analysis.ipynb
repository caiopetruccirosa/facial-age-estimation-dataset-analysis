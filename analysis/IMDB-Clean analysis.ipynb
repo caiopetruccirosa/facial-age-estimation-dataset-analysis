{
 "cells": [
  {
   "cell_type": "code",
   "execution_count": 1,
   "id": "b1b383fc",
   "metadata": {},
   "outputs": [],
   "source": [
    "# download on https://github.com/yiminglin-ai/imdb-clean"
   ]
  },
  {
   "cell_type": "code",
   "execution_count": 2,
   "id": "7cdd86fc",
   "metadata": {},
   "outputs": [],
   "source": [
    "import pandas as pd"
   ]
  },
  {
   "cell_type": "code",
   "execution_count": 3,
   "id": "05f5bc83",
   "metadata": {},
   "outputs": [
    {
     "data": {
      "text/html": [
       "<div>\n",
       "<style scoped>\n",
       "    .dataframe tbody tr th:only-of-type {\n",
       "        vertical-align: middle;\n",
       "    }\n",
       "\n",
       "    .dataframe tbody tr th {\n",
       "        vertical-align: top;\n",
       "    }\n",
       "\n",
       "    .dataframe thead th {\n",
       "        text-align: right;\n",
       "    }\n",
       "</style>\n",
       "<table border=\"1\" class=\"dataframe\">\n",
       "  <thead>\n",
       "    <tr style=\"text-align: right;\">\n",
       "      <th></th>\n",
       "      <th>filename</th>\n",
       "      <th>age</th>\n",
       "      <th>gender</th>\n",
       "      <th>x_min</th>\n",
       "      <th>y_min</th>\n",
       "      <th>x_max</th>\n",
       "      <th>y_max</th>\n",
       "      <th>head_roll</th>\n",
       "      <th>head_yaw</th>\n",
       "      <th>head_pitch</th>\n",
       "    </tr>\n",
       "  </thead>\n",
       "  <tbody>\n",
       "    <tr>\n",
       "      <th>0</th>\n",
       "      <td>88/nm0810488_rm2655369984_1947-5-16_2010.jpg</td>\n",
       "      <td>63</td>\n",
       "      <td>M</td>\n",
       "      <td>437.303192</td>\n",
       "      <td>42.856476</td>\n",
       "      <td>467.050140</td>\n",
       "      <td>98.899902</td>\n",
       "      <td>-5.962659</td>\n",
       "      <td>-36.795117</td>\n",
       "      <td>1.780944</td>\n",
       "    </tr>\n",
       "    <tr>\n",
       "      <th>1</th>\n",
       "      <td>45/nm0339745_rm995732224_1978-5-26_1986.jpg</td>\n",
       "      <td>8</td>\n",
       "      <td>M</td>\n",
       "      <td>364.144257</td>\n",
       "      <td>786.160950</td>\n",
       "      <td>552.663513</td>\n",
       "      <td>1009.277405</td>\n",
       "      <td>5.570054</td>\n",
       "      <td>6.371778</td>\n",
       "      <td>4.237167</td>\n",
       "    </tr>\n",
       "    <tr>\n",
       "      <th>2</th>\n",
       "      <td>55/nm0420955_rm3863263232_1947-5-4_2008.jpg</td>\n",
       "      <td>61</td>\n",
       "      <td>M</td>\n",
       "      <td>1137.936035</td>\n",
       "      <td>242.395020</td>\n",
       "      <td>1331.409424</td>\n",
       "      <td>549.516113</td>\n",
       "      <td>7.377303</td>\n",
       "      <td>2.632854</td>\n",
       "      <td>17.795181</td>\n",
       "    </tr>\n",
       "    <tr>\n",
       "      <th>3</th>\n",
       "      <td>26/nm0000126_rm489339392_1955-1-18_2007.jpg</td>\n",
       "      <td>52</td>\n",
       "      <td>M</td>\n",
       "      <td>441.024567</td>\n",
       "      <td>56.378716</td>\n",
       "      <td>563.802246</td>\n",
       "      <td>237.178558</td>\n",
       "      <td>3.875414</td>\n",
       "      <td>-21.536889</td>\n",
       "      <td>16.404904</td>\n",
       "    </tr>\n",
       "    <tr>\n",
       "      <th>4</th>\n",
       "      <td>23/nm0000623_rm1856542720_1954-2-17_2005.jpg</td>\n",
       "      <td>51</td>\n",
       "      <td>F</td>\n",
       "      <td>68.119370</td>\n",
       "      <td>53.637310</td>\n",
       "      <td>133.536194</td>\n",
       "      <td>142.539185</td>\n",
       "      <td>7.606505</td>\n",
       "      <td>21.275758</td>\n",
       "      <td>1.785451</td>\n",
       "    </tr>\n",
       "  </tbody>\n",
       "</table>\n",
       "</div>"
      ],
      "text/plain": [
       "                                       filename  age gender        x_min  \\\n",
       "0  88/nm0810488_rm2655369984_1947-5-16_2010.jpg   63      M   437.303192   \n",
       "1   45/nm0339745_rm995732224_1978-5-26_1986.jpg    8      M   364.144257   \n",
       "2   55/nm0420955_rm3863263232_1947-5-4_2008.jpg   61      M  1137.936035   \n",
       "3   26/nm0000126_rm489339392_1955-1-18_2007.jpg   52      M   441.024567   \n",
       "4  23/nm0000623_rm1856542720_1954-2-17_2005.jpg   51      F    68.119370   \n",
       "\n",
       "        y_min        x_max        y_max  head_roll   head_yaw  head_pitch  \n",
       "0   42.856476   467.050140    98.899902  -5.962659 -36.795117    1.780944  \n",
       "1  786.160950   552.663513  1009.277405   5.570054   6.371778    4.237167  \n",
       "2  242.395020  1331.409424   549.516113   7.377303   2.632854   17.795181  \n",
       "3   56.378716   563.802246   237.178558   3.875414 -21.536889   16.404904  \n",
       "4   53.637310   133.536194   142.539185   7.606505  21.275758    1.785451  "
      ]
     },
     "execution_count": 3,
     "metadata": {},
     "output_type": "execute_result"
    }
   ],
   "source": [
    "train_new_df = pd.read_csv('../datasets/imdb-clean/imdb-clean/csvs/imdb_train_new.csv')\n",
    "val_new_df = pd.read_csv('../datasets/imdb-clean/imdb-clean/csvs/imdb_valid_new.csv')\n",
    "test_new_df = pd.read_csv('../datasets/imdb-clean/imdb-clean/csvs/imdb_test_new.csv')\n",
    "\n",
    "new_df = pd.concat([train_new_df, val_new_df, test_new_df], ignore_index=True)\n",
    "\n",
    "new_df.head()"
   ]
  },
  {
   "cell_type": "code",
   "execution_count": 4,
   "id": "4b8d3b73",
   "metadata": {},
   "outputs": [
    {
     "name": "stdout",
     "output_type": "stream",
     "text": [
      "<class 'pandas.core.frame.DataFrame'>\n",
      "RangeIndex: 285946 entries, 0 to 285945\n",
      "Data columns (total 10 columns):\n",
      " #   Column      Non-Null Count   Dtype  \n",
      "---  ------      --------------   -----  \n",
      " 0   filename    285946 non-null  object \n",
      " 1   age         285946 non-null  int64  \n",
      " 2   gender      285946 non-null  object \n",
      " 3   x_min       285946 non-null  float64\n",
      " 4   y_min       285946 non-null  float64\n",
      " 5   x_max       285946 non-null  float64\n",
      " 6   y_max       285946 non-null  float64\n",
      " 7   head_roll   285946 non-null  float64\n",
      " 8   head_yaw    285946 non-null  float64\n",
      " 9   head_pitch  285946 non-null  float64\n",
      "dtypes: float64(7), int64(1), object(2)\n",
      "memory usage: 21.8+ MB\n"
     ]
    }
   ],
   "source": [
    "new_df.info()"
   ]
  },
  {
   "cell_type": "code",
   "execution_count": 5,
   "id": "5388dea7",
   "metadata": {},
   "outputs": [
    {
     "data": {
      "text/plain": [
       "<AxesSubplot:>"
      ]
     },
     "execution_count": 5,
     "metadata": {},
     "output_type": "execute_result"
    },
    {
     "data": {
      "image/png": "[encoded data removed]",
      "text/plain": [
       "<Figure size 1728x576 with 1 Axes>"
      ]
     },
     "metadata": {
      "needs_background": "light"
     },
     "output_type": "display_data"
    }
   ],
   "source": [
    "new_df['age'].value_counts().sort_index().plot(kind='bar', fontsize=12, figsize=(24,8))"
   ]
  },
  {
   "cell_type": "code",
   "execution_count": 6,
   "id": "58532c7e",
   "metadata": {},
   "outputs": [
    {
     "name": "stdout",
     "output_type": "stream",
     "text": [
      "Percentile of minors on new_df: \t  3.30%\n"
     ]
    }
   ],
   "source": [
    "total_cnt, minor_cnt = 0, 0\n",
    "\n",
    "for age, count in new_df['age'].value_counts().items():\n",
    "    if age < 18:\n",
    "        minor_cnt += count\n",
    "    total_cnt += count\n",
    "    \n",
    "minor_p = minor_cnt/total_cnt\n",
    "\n",
    "print(f'Percentile of minors on new_df: \\t {minor_p * 100 : .2f}%')"
   ]
  },
  {
   "cell_type": "code",
   "execution_count": 7,
   "id": "84408cc4",
   "metadata": {},
   "outputs": [
    {
     "data": {
      "text/html": [
       "<div>\n",
       "<style scoped>\n",
       "    .dataframe tbody tr th:only-of-type {\n",
       "        vertical-align: middle;\n",
       "    }\n",
       "\n",
       "    .dataframe tbody tr th {\n",
       "        vertical-align: top;\n",
       "    }\n",
       "\n",
       "    .dataframe thead th {\n",
       "        text-align: right;\n",
       "    }\n",
       "</style>\n",
       "<table border=\"1\" class=\"dataframe\">\n",
       "  <thead>\n",
       "    <tr style=\"text-align: right;\">\n",
       "      <th></th>\n",
       "      <th>filename</th>\n",
       "      <th>age</th>\n",
       "      <th>gender</th>\n",
       "      <th>x_min</th>\n",
       "      <th>y_min</th>\n",
       "      <th>x_max</th>\n",
       "      <th>y_max</th>\n",
       "      <th>head_roll</th>\n",
       "      <th>head_yaw</th>\n",
       "      <th>head_pitch</th>\n",
       "    </tr>\n",
       "  </thead>\n",
       "  <tbody>\n",
       "    <tr>\n",
       "      <th>0</th>\n",
       "      <td>74/nm1021774_rm2965540352_1979-4-23_2005.jpg</td>\n",
       "      <td>26</td>\n",
       "      <td>F</td>\n",
       "      <td>31</td>\n",
       "      <td>38</td>\n",
       "      <td>61</td>\n",
       "      <td>75</td>\n",
       "      <td>-11.017545</td>\n",
       "      <td>-6.608137</td>\n",
       "      <td>2.537482</td>\n",
       "    </tr>\n",
       "    <tr>\n",
       "      <th>1</th>\n",
       "      <td>05/nm0200005_rm3512895744_1959-12-24_2009.jpg</td>\n",
       "      <td>50</td>\n",
       "      <td>M</td>\n",
       "      <td>78</td>\n",
       "      <td>93</td>\n",
       "      <td>155</td>\n",
       "      <td>185</td>\n",
       "      <td>20.134891</td>\n",
       "      <td>-34.811884</td>\n",
       "      <td>-5.720485</td>\n",
       "    </tr>\n",
       "    <tr>\n",
       "      <th>2</th>\n",
       "      <td>23/nm0000623_rm1856542720_1954-2-17_2005.jpg</td>\n",
       "      <td>51</td>\n",
       "      <td>F</td>\n",
       "      <td>66</td>\n",
       "      <td>90</td>\n",
       "      <td>131</td>\n",
       "      <td>179</td>\n",
       "      <td>7.606505</td>\n",
       "      <td>21.275758</td>\n",
       "      <td>1.785451</td>\n",
       "    </tr>\n",
       "    <tr>\n",
       "      <th>3</th>\n",
       "      <td>69/nm0553269_rm2663024128_1951-7-18_2010.jpg</td>\n",
       "      <td>59</td>\n",
       "      <td>F</td>\n",
       "      <td>53</td>\n",
       "      <td>73</td>\n",
       "      <td>105</td>\n",
       "      <td>145</td>\n",
       "      <td>5.673826</td>\n",
       "      <td>-4.269883</td>\n",
       "      <td>15.320920</td>\n",
       "    </tr>\n",
       "    <tr>\n",
       "      <th>4</th>\n",
       "      <td>72/nm1928172_rm2324928768_1978-5-17_2006.jpg</td>\n",
       "      <td>28</td>\n",
       "      <td>F</td>\n",
       "      <td>28</td>\n",
       "      <td>35</td>\n",
       "      <td>55</td>\n",
       "      <td>69</td>\n",
       "      <td>1.275156</td>\n",
       "      <td>-14.613717</td>\n",
       "      <td>17.106459</td>\n",
       "    </tr>\n",
       "  </tbody>\n",
       "</table>\n",
       "</div>"
      ],
      "text/plain": [
       "                                        filename  age gender  x_min  y_min  \\\n",
       "0   74/nm1021774_rm2965540352_1979-4-23_2005.jpg   26      F     31     38   \n",
       "1  05/nm0200005_rm3512895744_1959-12-24_2009.jpg   50      M     78     93   \n",
       "2   23/nm0000623_rm1856542720_1954-2-17_2005.jpg   51      F     66     90   \n",
       "3   69/nm0553269_rm2663024128_1951-7-18_2010.jpg   59      F     53     73   \n",
       "4   72/nm1928172_rm2324928768_1978-5-17_2006.jpg   28      F     28     35   \n",
       "\n",
       "   x_max  y_max  head_roll   head_yaw  head_pitch  \n",
       "0     61     75 -11.017545  -6.608137    2.537482  \n",
       "1    155    185  20.134891 -34.811884   -5.720485  \n",
       "2    131    179   7.606505  21.275758    1.785451  \n",
       "3    105    145   5.673826  -4.269883   15.320920  \n",
       "4     55     69   1.275156 -14.613717   17.106459  "
      ]
     },
     "execution_count": 7,
     "metadata": {},
     "output_type": "execute_result"
    }
   ],
   "source": [
    "train_new_1024_df = pd.read_csv('../datasets/imdb-clean/imdb-clean/csvs/imdb_train_new_1024.csv')\n",
    "val_new_1024_df = pd.read_csv('../datasets/imdb-clean/imdb-clean/csvs/imdb_valid_new_1024.csv')\n",
    "test_new_1024_df = pd.read_csv('../datasets/imdb-clean/imdb-clean/csvs/imdb_test_new_1024.csv')\n",
    "\n",
    "new_1024_df = pd.concat([train_new_1024_df, val_new_1024_df, test_new_1024_df], ignore_index=True)\n",
    "\n",
    "new_1024_df.head()"
   ]
  },
  {
   "cell_type": "code",
   "execution_count": 8,
   "id": "b78dd3aa",
   "metadata": {},
   "outputs": [
    {
     "name": "stdout",
     "output_type": "stream",
     "text": [
      "<class 'pandas.core.frame.DataFrame'>\n",
      "RangeIndex: 285946 entries, 0 to 285945\n",
      "Data columns (total 10 columns):\n",
      " #   Column      Non-Null Count   Dtype  \n",
      "---  ------      --------------   -----  \n",
      " 0   filename    285946 non-null  object \n",
      " 1   age         285946 non-null  int64  \n",
      " 2   gender      285946 non-null  object \n",
      " 3   x_min       285946 non-null  int64  \n",
      " 4   y_min       285946 non-null  int64  \n",
      " 5   x_max       285946 non-null  int64  \n",
      " 6   y_max       285946 non-null  int64  \n",
      " 7   head_roll   285946 non-null  float64\n",
      " 8   head_yaw    285946 non-null  float64\n",
      " 9   head_pitch  285946 non-null  float64\n",
      "dtypes: float64(3), int64(5), object(2)\n",
      "memory usage: 21.8+ MB\n"
     ]
    }
   ],
   "source": [
    "new_1024_df.info()"
   ]
  },
  {
   "cell_type": "code",
   "execution_count": 9,
   "id": "3a509126",
   "metadata": {},
   "outputs": [
    {
     "data": {
      "text/plain": [
       "<AxesSubplot:>"
      ]
     },
     "execution_count": 9,
     "metadata": {},
     "output_type": "execute_result"
    },
    {
     "data": {
      "image/png": "[encoded data removed]",
      "text/plain": [
       "<Figure size 1728x576 with 1 Axes>"
      ]
     },
     "metadata": {
      "needs_background": "light"
     },
     "output_type": "display_data"
    }
   ],
   "source": [
    "new_1024_df['age'].value_counts().sort_index().plot(kind='bar', fontsize=12, figsize=(24,8))"
   ]
  },
  {
   "cell_type": "code",
   "execution_count": 10,
   "id": "a0a3dab6",
   "metadata": {},
   "outputs": [
    {
     "name": "stdout",
     "output_type": "stream",
     "text": [
      "Percentile of minors on new_1024_df: \t  3.30%\n"
     ]
    }
   ],
   "source": [
    "total_cnt, minor_cnt = 0, 0\n",
    "\n",
    "for age, count in new_1024_df['age'].value_counts().items():\n",
    "    if age < 18:\n",
    "        minor_cnt += count\n",
    "    total_cnt += count\n",
    "    \n",
    "minor_p = minor_cnt/total_cnt\n",
    "\n",
    "print(f'Percentile of minors on new_1024_df: \\t {minor_p * 100 : .2f}%')"
   ]
  }
 ],
 "metadata": {
  "kernelspec": {
   "display_name": "Python 3 (ipykernel)",
   "language": "python",
   "name": "python3"
  },
  "language_info": {
   "codemirror_mode": {
    "name": "ipython",
    "version": 3
   },
   "file_extension": ".py",
   "mimetype": "text/x-python",
   "name": "python",
   "nbconvert_exporter": "python",
   "pygments_lexer": "ipython3",
   "version": "3.7.13"
  }
 },
 "nbformat": 4,
 "nbformat_minor": 5
}
