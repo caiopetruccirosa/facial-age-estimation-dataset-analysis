{
 "cells": [
  {
   "cell_type": "code",
   "execution_count": 1,
   "id": "6ff8e8ed",
   "metadata": {},
   "outputs": [],
   "source": [
    "# download on https://bcsiriuschen.github.io/CARC/"
   ]
  },
  {
   "cell_type": "code",
   "execution_count": 2,
   "id": "b1b383fc",
   "metadata": {},
   "outputs": [],
   "source": [
    "import pandas as pd\n",
    "\n",
    "from pathlib import Path"
   ]
  },
  {
   "cell_type": "code",
   "execution_count": 3,
   "id": "311fdccc",
   "metadata": {},
   "outputs": [],
   "source": [
    "def read_dataset(dataset_dir):\n",
    "    current_path = Path('.')\n",
    "    dataset_path = Path(dataset_dir)\n",
    "    dataset = []\n",
    "    for file in dataset_path.glob('**/*'):\n",
    "        if file.suffix != '.jpg':\n",
    "            print(f'File with extension different than .jpg. File extension found: {file.suffix}')\n",
    "        else:\n",
    "            filename = file.stem\n",
    "            attributes = filename.split('_')\n",
    "            data = {\n",
    "                'person_name': '_'.join(attributes[1:-1]),\n",
    "                'picture_per_person_id': int(attributes[-1]),\n",
    "                'age': int(attributes[0]),\n",
    "                'filepath': str(file.relative_to(current_path))\n",
    "            }\n",
    "            dataset.append(data)\n",
    "    return dataset"
   ]
  },
  {
   "cell_type": "code",
   "execution_count": 4,
   "id": "3303a7f4",
   "metadata": {},
   "outputs": [],
   "source": [
    "dataset_data = read_dataset('../datasets/cacd/CACD2000')"
   ]
  },
  {
   "cell_type": "code",
   "execution_count": 5,
   "id": "05f5bc83",
   "metadata": {},
   "outputs": [
    {
     "data": {
      "text/html": [
       "<div>\n",
       "<style scoped>\n",
       "    .dataframe tbody tr th:only-of-type {\n",
       "        vertical-align: middle;\n",
       "    }\n",
       "\n",
       "    .dataframe tbody tr th {\n",
       "        vertical-align: top;\n",
       "    }\n",
       "\n",
       "    .dataframe thead th {\n",
       "        text-align: right;\n",
       "    }\n",
       "</style>\n",
       "<table border=\"1\" class=\"dataframe\">\n",
       "  <thead>\n",
       "    <tr style=\"text-align: right;\">\n",
       "      <th></th>\n",
       "      <th>person_name</th>\n",
       "      <th>picture_per_person_id</th>\n",
       "      <th>age</th>\n",
       "      <th>filepath</th>\n",
       "    </tr>\n",
       "  </thead>\n",
       "  <tbody>\n",
       "    <tr>\n",
       "      <th>0</th>\n",
       "      <td>Tony_Danza</td>\n",
       "      <td>10</td>\n",
       "      <td>61</td>\n",
       "      <td>../datasets/cacd/CACD2000/61_Tony_Danza_0010.jpg</td>\n",
       "    </tr>\n",
       "    <tr>\n",
       "      <th>1</th>\n",
       "      <td>Frances_Fisher</td>\n",
       "      <td>1</td>\n",
       "      <td>54</td>\n",
       "      <td>../datasets/cacd/CACD2000/54_Frances_Fisher_00...</td>\n",
       "    </tr>\n",
       "    <tr>\n",
       "      <th>2</th>\n",
       "      <td>Alfre_Woodard</td>\n",
       "      <td>6</td>\n",
       "      <td>60</td>\n",
       "      <td>../datasets/cacd/CACD2000/60_Alfre_Woodard_000...</td>\n",
       "    </tr>\n",
       "    <tr>\n",
       "      <th>3</th>\n",
       "      <td>Lorna_Luft</td>\n",
       "      <td>6</td>\n",
       "      <td>57</td>\n",
       "      <td>../datasets/cacd/CACD2000/57_Lorna_Luft_0006.jpg</td>\n",
       "    </tr>\n",
       "    <tr>\n",
       "      <th>4</th>\n",
       "      <td>Isabelle_Huppert</td>\n",
       "      <td>7</td>\n",
       "      <td>60</td>\n",
       "      <td>../datasets/cacd/CACD2000/60_Isabelle_Huppert_...</td>\n",
       "    </tr>\n",
       "  </tbody>\n",
       "</table>\n",
       "</div>"
      ],
      "text/plain": [
       "        person_name  picture_per_person_id  age  \\\n",
       "0        Tony_Danza                     10   61   \n",
       "1    Frances_Fisher                      1   54   \n",
       "2     Alfre_Woodard                      6   60   \n",
       "3        Lorna_Luft                      6   57   \n",
       "4  Isabelle_Huppert                      7   60   \n",
       "\n",
       "                                            filepath  \n",
       "0   ../datasets/cacd/CACD2000/61_Tony_Danza_0010.jpg  \n",
       "1  ../datasets/cacd/CACD2000/54_Frances_Fisher_00...  \n",
       "2  ../datasets/cacd/CACD2000/60_Alfre_Woodard_000...  \n",
       "3   ../datasets/cacd/CACD2000/57_Lorna_Luft_0006.jpg  \n",
       "4  ../datasets/cacd/CACD2000/60_Isabelle_Huppert_...  "
      ]
     },
     "execution_count": 5,
     "metadata": {},
     "output_type": "execute_result"
    }
   ],
   "source": [
    "df = pd.DataFrame(dataset_data)\n",
    "\n",
    "df.head()"
   ]
  },
  {
   "cell_type": "code",
   "execution_count": 6,
   "id": "3a509126",
   "metadata": {},
   "outputs": [
    {
     "data": {
      "text/plain": [
       "<AxesSubplot:>"
      ]
     },
     "execution_count": 6,
     "metadata": {},
     "output_type": "execute_result"
    },
    {
     "data": {
      "image/png": "[encoded data removed]",
      "text/plain": [
       "<Figure size 1728x576 with 1 Axes>"
      ]
     },
     "metadata": {
      "needs_background": "light"
     },
     "output_type": "display_data"
    }
   ],
   "source": [
    "df['age'].value_counts().sort_index().plot(kind='bar', fontsize=12, figsize=(24,8))"
   ]
  },
  {
   "cell_type": "code",
   "execution_count": 7,
   "id": "58532c7e",
   "metadata": {},
   "outputs": [],
   "source": [
    "total_cnt, minor_cnt = 0, 0\n",
    "\n",
    "for age, count in df['age'].value_counts().items():\n",
    "    if age < 18:\n",
    "        minor_cnt += count\n",
    "    total_cnt += count\n",
    "    \n",
    "minor_p = minor_cnt/total_cnt"
   ]
  },
  {
   "cell_type": "code",
   "execution_count": 8,
   "id": "921ca23c",
   "metadata": {
    "scrolled": true
   },
   "outputs": [
    {
     "name": "stdout",
     "output_type": "stream",
     "text": [
      "Percentile of minors: \t  1.98%\n"
     ]
    }
   ],
   "source": [
    "print(f'Percentile of minors: \\t {minor_p * 100 : .2f}%')"
   ]
  }
 ],
 "metadata": {
  "kernelspec": {
   "display_name": "Python 3 (ipykernel)",
   "language": "python",
   "name": "python3"
  },
  "language_info": {
   "codemirror_mode": {
    "name": "ipython",
    "version": 3
   },
   "file_extension": ".py",
   "mimetype": "text/x-python",
   "name": "python",
   "nbconvert_exporter": "python",
   "pygments_lexer": "ipython3",
   "version": "3.7.13"
  }
 },
 "nbformat": 4,
 "nbformat_minor": 5
}
