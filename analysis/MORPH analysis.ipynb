{
 "cells": [
  {
   "cell_type": "code",
   "execution_count": 1,
   "id": "2befc19c",
   "metadata": {},
   "outputs": [],
   "source": [
    "# download on https://www.kaggle.com/datasets/chiragsaipanuganti/morph"
   ]
  },
  {
   "cell_type": "code",
   "execution_count": 2,
   "id": "b1b383fc",
   "metadata": {},
   "outputs": [],
   "source": [
    "import pandas as pd\n",
    "\n",
    "from pathlib import Path"
   ]
  },
  {
   "cell_type": "code",
   "execution_count": 3,
   "id": "05f5bc83",
   "metadata": {},
   "outputs": [
    {
     "data": {
      "text/html": [
       "<div>\n",
       "<style scoped>\n",
       "    .dataframe tbody tr th:only-of-type {\n",
       "        vertical-align: middle;\n",
       "    }\n",
       "\n",
       "    .dataframe tbody tr th {\n",
       "        vertical-align: top;\n",
       "    }\n",
       "\n",
       "    .dataframe thead th {\n",
       "        text-align: right;\n",
       "    }\n",
       "</style>\n",
       "<table border=\"1\" class=\"dataframe\">\n",
       "  <thead>\n",
       "    <tr style=\"text-align: right;\">\n",
       "      <th></th>\n",
       "      <th>age</th>\n",
       "      <th>gender</th>\n",
       "      <th>filename</th>\n",
       "      <th>filepath</th>\n",
       "    </tr>\n",
       "  </thead>\n",
       "  <tbody>\n",
       "    <tr>\n",
       "      <th>0</th>\n",
       "      <td>3</td>\n",
       "      <td>1</td>\n",
       "      <td>00013_00M19.JPG</td>\n",
       "      <td>/kaggle/input/morph/Dataset/Images/Train/00013...</td>\n",
       "    </tr>\n",
       "    <tr>\n",
       "      <th>1</th>\n",
       "      <td>3</td>\n",
       "      <td>1</td>\n",
       "      <td>00013_01M19.JPG</td>\n",
       "      <td>/kaggle/input/morph/Dataset/Images/Train/00013...</td>\n",
       "    </tr>\n",
       "    <tr>\n",
       "      <th>2</th>\n",
       "      <td>3</td>\n",
       "      <td>1</td>\n",
       "      <td>00013_02M19.JPG</td>\n",
       "      <td>/kaggle/input/morph/Dataset/Images/Train/00013...</td>\n",
       "    </tr>\n",
       "    <tr>\n",
       "      <th>3</th>\n",
       "      <td>3</td>\n",
       "      <td>1</td>\n",
       "      <td>00022_03M19.JPG</td>\n",
       "      <td>/kaggle/input/morph/Dataset/Images/Train/00022...</td>\n",
       "    </tr>\n",
       "    <tr>\n",
       "      <th>4</th>\n",
       "      <td>4</td>\n",
       "      <td>1</td>\n",
       "      <td>00022_04M20.JPG</td>\n",
       "      <td>/kaggle/input/morph/Dataset/Images/Train/00022...</td>\n",
       "    </tr>\n",
       "  </tbody>\n",
       "</table>\n",
       "</div>"
      ],
      "text/plain": [
       "   age  gender         filename  \\\n",
       "0    3       1  00013_00M19.JPG   \n",
       "1    3       1  00013_01M19.JPG   \n",
       "2    3       1  00013_02M19.JPG   \n",
       "3    3       1  00022_03M19.JPG   \n",
       "4    4       1  00022_04M20.JPG   \n",
       "\n",
       "                                            filepath  \n",
       "0  /kaggle/input/morph/Dataset/Images/Train/00013...  \n",
       "1  /kaggle/input/morph/Dataset/Images/Train/00013...  \n",
       "2  /kaggle/input/morph/Dataset/Images/Train/00013...  \n",
       "3  /kaggle/input/morph/Dataset/Images/Train/00022...  \n",
       "4  /kaggle/input/morph/Dataset/Images/Train/00022...  "
      ]
     },
     "execution_count": 3,
     "metadata": {},
     "output_type": "execute_result"
    }
   ],
   "source": [
    "original_train_df = pd.read_csv('../datasets/morph/archive/Dataset/Index/Train.csv')\n",
    "original_val_df = pd.read_csv('../datasets/morph/archive/Dataset/Index/Validation.csv')\n",
    "original_test_df = pd.read_csv('../datasets/morph/archive/Dataset/Index/Test.csv')\n",
    "\n",
    "original_df = pd.concat([original_train_df, original_val_df, original_test_df], ignore_index=True)\n",
    "original_df.head()"
   ]
  },
  {
   "cell_type": "code",
   "execution_count": 4,
   "id": "3a509126",
   "metadata": {},
   "outputs": [
    {
     "data": {
      "text/plain": [
       "<AxesSubplot:>"
      ]
     },
     "execution_count": 4,
     "metadata": {},
     "output_type": "execute_result"
    },
    {
     "data": {
      "image/png": "[encoded data removed]",
      "text/plain": [
       "<Figure size 1728x576 with 1 Axes>"
      ]
     },
     "metadata": {
      "needs_background": "light"
     },
     "output_type": "display_data"
    }
   ],
   "source": [
    "original_df['age'].value_counts().sort_index().plot(kind='bar', fontsize=14, figsize=(24,8))"
   ]
  },
  {
   "cell_type": "code",
   "execution_count": 5,
   "id": "58532c7e",
   "metadata": {},
   "outputs": [
    {
     "name": "stdout",
     "output_type": "stream",
     "text": [
      "Percentile of minors on \"original\" annotation: \t  51.9924%\n"
     ]
    }
   ],
   "source": [
    "total_cnt, minor_cnt = 0, 0\n",
    "\n",
    "for age, count in original_df['age'].value_counts().items():\n",
    "    if age < 18:\n",
    "        minor_cnt += count\n",
    "    total_cnt += count\n",
    "    \n",
    "minor_p = minor_cnt/total_cnt\n",
    "\n",
    "print(f'Percentile of minors on \"original\" annotation: \\t {minor_p * 100 : .4f}%')"
   ]
  },
  {
   "cell_type": "code",
   "execution_count": 6,
   "id": "b02daa81",
   "metadata": {},
   "outputs": [],
   "source": [
    "def read_dataset(dataset_dir):\n",
    "    current_path = Path('.')\n",
    "    dataset_path = Path(dataset_dir)\n",
    "    dataset = []\n",
    "    for file in dataset_path.glob('**/*'):\n",
    "        if file.is_file():\n",
    "            if file.suffix not in ['.jpg','.JPG']:\n",
    "                print(f'File with extension different than .jpg. File extension found: {file.suffix}')\n",
    "            else:\n",
    "                filename = file.stem\n",
    "                photo_id, other_attributes = filename.split('_')\n",
    "\n",
    "                if 'M' in other_attributes:\n",
    "                    gender = 'M'\n",
    "                    unknown_attribute, raw_age = other_attributes.split('M')\n",
    "                elif 'F' in other_attributes:\n",
    "                    gender = 'M'\n",
    "                    unknown_attribute, raw_age = other_attributes.split('F')\n",
    "                else:\n",
    "                    print(f'Couldn\\'t extract gender on file: {filename}')\n",
    "\n",
    "                data = {\n",
    "                    'photo_id': photo_id,\n",
    "                    'age': int(raw_age),\n",
    "                    'gender': gender,\n",
    "                    'unknown_attribute': unknown_attribute,\n",
    "                    'filepath': str(file.relative_to(current_path))\n",
    "                }\n",
    "                dataset.append(data)\n",
    "    return dataset"
   ]
  },
  {
   "cell_type": "code",
   "execution_count": 7,
   "id": "44f4225b",
   "metadata": {},
   "outputs": [],
   "source": [
    "dataset_data = read_dataset('../datasets/morph/archive/Dataset/Images')"
   ]
  },
  {
   "cell_type": "code",
   "execution_count": 8,
   "id": "4bc2258b",
   "metadata": {},
   "outputs": [
    {
     "data": {
      "text/html": [
       "<div>\n",
       "<style scoped>\n",
       "    .dataframe tbody tr th:only-of-type {\n",
       "        vertical-align: middle;\n",
       "    }\n",
       "\n",
       "    .dataframe tbody tr th {\n",
       "        vertical-align: top;\n",
       "    }\n",
       "\n",
       "    .dataframe thead th {\n",
       "        text-align: right;\n",
       "    }\n",
       "</style>\n",
       "<table border=\"1\" class=\"dataframe\">\n",
       "  <thead>\n",
       "    <tr style=\"text-align: right;\">\n",
       "      <th></th>\n",
       "      <th>photo_id</th>\n",
       "      <th>age</th>\n",
       "      <th>gender</th>\n",
       "      <th>unknown_attribute</th>\n",
       "      <th>filepath</th>\n",
       "    </tr>\n",
       "  </thead>\n",
       "  <tbody>\n",
       "    <tr>\n",
       "      <th>0</th>\n",
       "      <td>00189</td>\n",
       "      <td>18</td>\n",
       "      <td>M</td>\n",
       "      <td>01</td>\n",
       "      <td>../datasets/morph/archive/Dataset/Images/Test/...</td>\n",
       "    </tr>\n",
       "    <tr>\n",
       "      <th>1</th>\n",
       "      <td>00242</td>\n",
       "      <td>19</td>\n",
       "      <td>M</td>\n",
       "      <td>06</td>\n",
       "      <td>../datasets/morph/archive/Dataset/Images/Test/...</td>\n",
       "    </tr>\n",
       "    <tr>\n",
       "      <th>2</th>\n",
       "      <td>00257</td>\n",
       "      <td>22</td>\n",
       "      <td>M</td>\n",
       "      <td>01</td>\n",
       "      <td>../datasets/morph/archive/Dataset/Images/Test/...</td>\n",
       "    </tr>\n",
       "    <tr>\n",
       "      <th>3</th>\n",
       "      <td>00425</td>\n",
       "      <td>20</td>\n",
       "      <td>M</td>\n",
       "      <td>03</td>\n",
       "      <td>../datasets/morph/archive/Dataset/Images/Test/...</td>\n",
       "    </tr>\n",
       "    <tr>\n",
       "      <th>4</th>\n",
       "      <td>00457</td>\n",
       "      <td>37</td>\n",
       "      <td>M</td>\n",
       "      <td>1</td>\n",
       "      <td>../datasets/morph/archive/Dataset/Images/Test/...</td>\n",
       "    </tr>\n",
       "  </tbody>\n",
       "</table>\n",
       "</div>"
      ],
      "text/plain": [
       "  photo_id  age gender unknown_attribute  \\\n",
       "0    00189   18      M                01   \n",
       "1    00242   19      M                06   \n",
       "2    00257   22      M                01   \n",
       "3    00425   20      M                03   \n",
       "4    00457   37      M                 1   \n",
       "\n",
       "                                            filepath  \n",
       "0  ../datasets/morph/archive/Dataset/Images/Test/...  \n",
       "1  ../datasets/morph/archive/Dataset/Images/Test/...  \n",
       "2  ../datasets/morph/archive/Dataset/Images/Test/...  \n",
       "3  ../datasets/morph/archive/Dataset/Images/Test/...  \n",
       "4  ../datasets/morph/archive/Dataset/Images/Test/...  "
      ]
     },
     "execution_count": 8,
     "metadata": {},
     "output_type": "execute_result"
    }
   ],
   "source": [
    "df = pd.DataFrame(dataset_data)\n",
    "\n",
    "df.head()"
   ]
  },
  {
   "cell_type": "code",
   "execution_count": 9,
   "id": "ce5087ba",
   "metadata": {},
   "outputs": [
    {
     "data": {
      "text/plain": [
       "<AxesSubplot:>"
      ]
     },
     "execution_count": 9,
     "metadata": {},
     "output_type": "execute_result"
    },
    {
     "data": {
      "image/png": "[encoded data removed]",
      "text/plain": [
       "<Figure size 1728x576 with 1 Axes>"
      ]
     },
     "metadata": {
      "needs_background": "light"
     },
     "output_type": "display_data"
    }
   ],
   "source": [
    "df['age'].value_counts().sort_index().plot(kind='bar', fontsize=12, figsize=(24,8))"
   ]
  },
  {
   "cell_type": "code",
   "execution_count": 10,
   "id": "d6f0c027",
   "metadata": {},
   "outputs": [
    {
     "name": "stdout",
     "output_type": "stream",
     "text": [
      "Percentile of minors on extracted annotation: \t  5.51%\n"
     ]
    }
   ],
   "source": [
    "total_cnt, minor_cnt = 0, 0\n",
    "\n",
    "for age, count in df['age'].value_counts().items():\n",
    "    if age < 18:\n",
    "        minor_cnt += count\n",
    "    total_cnt += count\n",
    "    \n",
    "minor_p = minor_cnt/total_cnt\n",
    "\n",
    "print(f'Percentile of minors on extracted annotation: \\t {minor_p * 100 : .2f}%')"
   ]
  }
 ],
 "metadata": {
  "kernelspec": {
   "display_name": "Python 3 (ipykernel)",
   "language": "python",
   "name": "python3"
  },
  "language_info": {
   "codemirror_mode": {
    "name": "ipython",
    "version": 3
   },
   "file_extension": ".py",
   "mimetype": "text/x-python",
   "name": "python",
   "nbconvert_exporter": "python",
   "pygments_lexer": "ipython3",
   "version": "3.7.13"
  }
 },
 "nbformat": 4,
 "nbformat_minor": 5
}
